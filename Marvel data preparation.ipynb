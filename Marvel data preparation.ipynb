{
 "cells": [
  {
   "cell_type": "code",
   "execution_count": null,
   "id": "18b82929",
   "metadata": {},
   "outputs": [],
   "source": [
    "import pandas as pd\n",
    "import scipy as sc\n",
    "import numpy as np"
   ]
  },
  {
   "cell_type": "code",
   "execution_count": null,
   "id": "34452125",
   "metadata": {},
   "outputs": [],
   "source": [
    "df = pd.read_csv('Marvel full Dataframe.csv', low_memory = False)\n",
    "df.shape"
   ]
  },
  {
   "cell_type": "code",
   "execution_count": null,
   "id": "b5bc3ded",
   "metadata": {},
   "outputs": [],
   "source": [
    "df = pd.read_csv('Marvel full Dataframe.csv', low_memory = False)\n",
    "## drops column that added by the 'read_csv' call\n",
    "df.drop(labels = 'Unnamed: 0',axis = 1, inplace = True)\n",
    "\n",
    "## drops all duplicates\n",
    "df.drop_duplicates(inplace = True, ignore_index = True)\n",
    "\n",
    "## drop empty rows\n",
    "df.dropna(axis = 0, how = 'all',inplace = True)\n",
    "\n",
    "## drops rows with 2 NA features\n",
    "df.dropna(axis = 0, how ='any', thresh = 9 ,inplace= True)\n",
    "\n",
    "df.shape"
   ]
  },
  {
   "cell_type": "code",
   "execution_count": null,
   "id": "d05256a6",
   "metadata": {},
   "outputs": [],
   "source": [
    "df.fillna(method = 'ffill', axis = 0, inplace = True)\n"
   ]
  },
  {
   "cell_type": "code",
   "execution_count": null,
   "id": "723aafeb",
   "metadata": {},
   "outputs": [],
   "source": [
    "df.head()"
   ]
  },
  {
   "cell_type": "code",
   "execution_count": null,
   "id": "c2b0682a",
   "metadata": {},
   "outputs": [],
   "source": [
    "df.reset_index(level=None, drop=True, inplace=True, col_level=0, col_fill='')\n",
    "df.head()"
   ]
  },
  {
   "cell_type": "code",
   "execution_count": null,
   "id": "251319ed",
   "metadata": {},
   "outputs": [],
   "source": [
    "df.to_csv('Marvel Dataframe after drop and fill.csv')"
   ]
  },
  {
   "cell_type": "code",
   "execution_count": null,
   "id": "33eac1a1",
   "metadata": {},
   "outputs": [],
   "source": [
    "df = pd.read_csv('Marvel Dataframe after drop and fill.csv', low_memory = False)\n",
    "df.drop(labels = 'Unnamed: 0',axis = 1, inplace = True)\n",
    "df.reset_index(level=None, drop=True, inplace=True, col_level=0, col_fill='')\n",
    "df.drop(labels = ['Unnamed: 12','Unnamed: 13','Unnamed: 14', ],axis = 1, inplace = True)\n",
    "df"
   ]
  },
  {
   "cell_type": "code",
   "execution_count": null,
   "id": "9f2acfe8",
   "metadata": {},
   "outputs": [],
   "source": [
    "df.to_csv('Marvel Dataframe after drop and fill2.csv')"
   ]
  },
  {
   "cell_type": "code",
   "execution_count": null,
   "id": "f9658981",
   "metadata": {},
   "outputs": [],
   "source": [
    "df.shape"
   ]
  },
  {
   "cell_type": "code",
   "execution_count": null,
   "id": "1289c0d3",
   "metadata": {},
   "outputs": [],
   "source": [
    "## drops all duplicates\n",
    "df.drop_duplicates(inplace = True, ignore_index = True)\n",
    "\n",
    "## drop empty rows\n",
    "df.dropna(axis = 0, how = 'all',inplace = True)\n",
    "\n",
    "## drops rows with 2 NA features\n",
    "df.dropna(axis = 0, how ='any', thresh = 9 ,inplace= True)\n",
    "\n",
    "df.shape"
   ]
  },
  {
   "cell_type": "code",
   "execution_count": null,
   "id": "7c39dcc9",
   "metadata": {},
   "outputs": [],
   "source": [
    "df.fillna(method = 'ffill', axis = 0, inplace = True)\n",
    "df"
   ]
  },
  {
   "cell_type": "code",
   "execution_count": null,
   "id": "3e656dc3",
   "metadata": {},
   "outputs": [],
   "source": [
    "\n",
    "df['Year'] = year\n",
    "df"
   ]
  },
  {
   "cell_type": "code",
   "execution_count": null,
   "id": "e56e9c4a",
   "metadata": {},
   "outputs": [],
   "source": [
    "year = df['Year']\n",
    "for i, x in enumerate(year.tolist()):\n",
    "    if x.isdigit() == False:\n",
    "            year[i] = None"
   ]
  },
  {
   "cell_type": "code",
   "execution_count": null,
   "id": "1a7a6674",
   "metadata": {},
   "outputs": [],
   "source": [
    "df['Year'] = year"
   ]
  },
  {
   "cell_type": "code",
   "execution_count": null,
   "id": "f0a92d2b",
   "metadata": {},
   "outputs": [],
   "source": [
    "df.to_csv('Marvel Dataframe after drop and fill4.csv')"
   ]
  },
  {
   "cell_type": "code",
   "execution_count": null,
   "id": "cb485ec4",
   "metadata": {},
   "outputs": [],
   "source": [
    "df = pd.read_csv('Marvel Dataframe after drop and fill4.csv', low_memory = False)\n",
    "## drops column that added by the 'read_csv' call\n",
    "df.drop(labels = 'Unnamed: 0',axis = 1, inplace = True)\n",
    "\n",
    "## drops all duplicates\n",
    "df.drop_duplicates(inplace = True, ignore_index = True)\n",
    "\n",
    "## drop empty rows\n",
    "df.dropna(axis = 0, how = 'all',inplace = True)\n",
    "\n",
    "## drops rows with 2 NA features\n",
    "df.dropna(axis = 0, how ='any', thresh = 9 ,inplace= True)\n",
    "\n",
    "df.fillna(method = 'ffill', axis = 0, inplace = True)\n",
    "\n",
    "df.shape"
   ]
  },
  {
   "cell_type": "code",
   "execution_count": null,
   "id": "8ce97ec1",
   "metadata": {},
   "outputs": [],
   "source": [
    "appearnces = df['Appearnces']\n",
    "for i, x in enumerate(appearnces.tolist()):\n",
    "    if x.isdigit() == False:\n",
    "            appearnces[i] = None\n",
    "df['Appearnces'] = appearnces"
   ]
  },
  {
   "cell_type": "code",
   "execution_count": null,
   "id": "eec87da6",
   "metadata": {},
   "outputs": [],
   "source": [
    "df['Appearnces'] = appearnces"
   ]
  },
  {
   "cell_type": "code",
   "execution_count": null,
   "id": "55dc60f9",
   "metadata": {},
   "outputs": [],
   "source": [
    "df.to_csv('Marvel Dataframe after drop and fill5.csv')\n",
    "df.shape"
   ]
  },
  {
   "cell_type": "code",
   "execution_count": null,
   "id": "dc72553b",
   "metadata": {},
   "outputs": [],
   "source": [
    "df = pd.read_csv('Marvel Dataframe after drop and fill5.csv', low_memory = False)\n",
    "## drops column that added by the 'read_csv' call\n",
    "df.drop(labels = 'Unnamed: 0',axis = 1, inplace = True)\n",
    "\n",
    "## drops all duplicates\n",
    "df.drop_duplicates(inplace = True, ignore_index = True)\n",
    "\n",
    "## drop empty rows\n",
    "df.dropna(axis = 0, how = 'all',inplace = True)\n",
    "\n",
    "## drops rows with 2 NA features\n",
    "df.dropna(axis = 0, how ='any', thresh = 9 ,inplace= True)\n",
    "\n",
    "df.fillna(method = 'ffill', axis = 0, inplace = True)\n",
    "\n",
    "df.shape"
   ]
  },
  {
   "cell_type": "code",
   "execution_count": null,
   "id": "ad905878",
   "metadata": {},
   "outputs": [],
   "source": [
    "df_sorted = df.sort_values(by =['Appearnces'])\n",
    "df_sorted.drop_duplicates(subset=['Name'], keep='last', inplace=True, ignore_index=True)\n",
    "df_sorted.sort_values(by =['Name'], inplace=True, ignore_index=True)\n",
    "df_sorted"
   ]
  },
  {
   "cell_type": "code",
   "execution_count": null,
   "id": "6d670765",
   "metadata": {},
   "outputs": [],
   "source": [
    "df_sorted.to_csv('Marvel Dataframe after drop and fill7.csv')"
   ]
  },
  {
   "cell_type": "code",
   "execution_count": null,
   "id": "fc7cedfd",
   "metadata": {},
   "outputs": [],
   "source": [
    "df = pd.read_csv('Marvel Dataframe after drop and fill7.csv', low_memory = False)\n",
    "df.sort_values(by =['Name'], inplace=True, ignore_index=True)"
   ]
  },
  {
   "cell_type": "code",
   "execution_count": null,
   "id": "93aa0a60",
   "metadata": {},
   "outputs": [],
   "source": [
    "df.drop(labels = 'Unnamed: 0',axis = 1, inplace = True)\n"
   ]
  },
  {
   "cell_type": "code",
   "execution_count": null,
   "id": "07c4f56b",
   "metadata": {},
   "outputs": [],
   "source": [
    "gender_label = ['Male','Female']\n",
    "gender = df['Gender']\n",
    "for i,x in enumerate(gender.tolist()):\n",
    "    if x not in gender_label:\n",
    "        gender[i] = 'Other'\n",
    "df['Gender'] = gender\n",
    "df"
   ]
  },
  {
   "cell_type": "code",
   "execution_count": null,
   "id": "9ca01e0c",
   "metadata": {},
   "outputs": [],
   "source": [
    "mstatus_labels = ['Divored', 'Married', 'Single', 'Widowed']\n",
    "mstatus = df['Marital Status']\n",
    "for i,x in enumerate(mstatus.tolist()):\n",
    "    if x not in mstatus_labels:\n",
    "        mstatus[i] = 'Other'\n",
    "df['Marital Status'] = mstatus\n",
    "df"
   ]
  },
  {
   "cell_type": "code",
   "execution_count": null,
   "id": "a443a0be",
   "metadata": {},
   "outputs": [],
   "source": [
    "hair_color_labels = ['Bald', 'Black', 'Blond', 'Brown', 'Grey', 'No Hair At All', 'Red', 'White']\n",
    "hair_color = df['Hair Color']\n",
    "for i,x in enumerate(hair_color.tolist()):\n",
    "    if x not in hair_color_labels:\n",
    "        hair_color[i] = 'Other'\n",
    "df['Hair Color'] = hair_color\n",
    "df"
   ]
  },
  {
   "cell_type": "code",
   "execution_count": null,
   "id": "052dd51e",
   "metadata": {},
   "outputs": [],
   "source": [
    "eye_color_labels = ['Black', 'Blue', 'Brown','Green', 'Grey', 'Hazel', 'Red', 'White', 'Yellow']\n",
    "eye_color = df['Eye Color']\n",
    "for i,x in enumerate(eye_color.tolist()):\n",
    "    if x not in eye_color_labels:\n",
    "        eye_color[i] = 'Other'\n",
    "df['Eye Color'] = eye_color\n",
    "df"
   ]
  },
  {
   "cell_type": "code",
   "execution_count": null,
   "id": "b2c0d07e",
   "metadata": {},
   "outputs": [],
   "source": [
    "df2 = pd.get_dummies(df, prefix=['Gender'], prefix_sep='_', dummy_na=False, columns=['Gender'], sparse=False, drop_first=False, dtype=None)\n",
    "df2"
   ]
  },
  {
   "cell_type": "code",
   "execution_count": null,
   "id": "a372fe09",
   "metadata": {},
   "outputs": [],
   "source": [
    "df3 =  pd.get_dummies(df2, prefix=['M Status'], prefix_sep='_', dummy_na=False, columns=['Marital Status'], sparse=False, drop_first=False, dtype=None)\n",
    "df3"
   ]
  },
  {
   "cell_type": "code",
   "execution_count": null,
   "id": "119ed293",
   "metadata": {},
   "outputs": [],
   "source": [
    "df4 =  pd.get_dummies(df3, prefix=['Hair C'], prefix_sep='_', dummy_na=False, columns=['Hair Color'], sparse=False, drop_first=False, dtype=None)\n",
    "df4"
   ]
  },
  {
   "cell_type": "code",
   "execution_count": null,
   "id": "7ee337e1",
   "metadata": {},
   "outputs": [],
   "source": [
    "df5 =  pd.get_dummies(df4, prefix=['Eye C'], prefix_sep='_', dummy_na=False, columns=['Eye Color'], sparse=False, drop_first=False, dtype=None)\n",
    "df5"
   ]
  },
  {
   "cell_type": "code",
   "execution_count": null,
   "id": "bbb16a6f",
   "metadata": {},
   "outputs": [],
   "source": [
    "df6 =  pd.get_dummies(df5, prefix=['L status'], prefix_sep='_', dummy_na=False, columns=['Living status'], sparse=False, drop_first=False, dtype=None)\n",
    "df6"
   ]
  },
  {
   "cell_type": "code",
   "execution_count": null,
   "id": "c31dfce9",
   "metadata": {},
   "outputs": [],
   "source": [
    "df7 =  pd.get_dummies(df6, prefix=['Identity'], prefix_sep='_', dummy_na=False, columns=['Identity'], sparse=False, drop_first=False, dtype=None)\n",
    "df7"
   ]
  },
  {
   "cell_type": "code",
   "execution_count": null,
   "id": "a52b0895",
   "metadata": {},
   "outputs": [],
   "source": [
    "citizen_labels = ['American', 'Asgardian', 'British', 'Canadian', 'German', 'Japanese']\n",
    "citizen = df7['Citenzenship']\n",
    "for i,x in enumerate(citizen.tolist()):\n",
    "    if x not in citizen_labels:\n",
    "        citizen[i] = 'Other'\n",
    "df7['Citenzenship'] = citizen\n",
    "df7"
   ]
  },
  {
   "cell_type": "code",
   "execution_count": null,
   "id": "5675fe03",
   "metadata": {},
   "outputs": [],
   "source": [
    "reality_label = ['Earth-616','Earth-199999','Earth-928','Earth-1610']\n",
    "reality = df7['Reality']\n",
    "for i,x in enumerate(reality.tolist()):\n",
    "    if x not in reality_label:\n",
    "        reality[i] = 'Other'\n",
    "df7['Reality'] = reality\n",
    "df7"
   ]
  },
  {
   "cell_type": "code",
   "execution_count": null,
   "id": "7f589903",
   "metadata": {},
   "outputs": [],
   "source": [
    "df8 = pd.get_dummies(df7, prefix=['Reality'], prefix_sep='_', dummy_na=False, columns=['Reality'], sparse=False, drop_first=False, dtype=None)\n",
    "df8"
   ]
  },
  {
   "cell_type": "code",
   "execution_count": null,
   "id": "8ba10490",
   "metadata": {},
   "outputs": [],
   "source": [
    "df9 = pd.get_dummies(df8, prefix=['Citenzenship'], prefix_sep='_', dummy_na=False, columns=['Citenzenship'], sparse=False, drop_first=False, dtype=None)\n",
    "df9.to_csv('Marvel Dataframe after drop and fill8.csv')"
   ]
  },
  {
   "cell_type": "code",
   "execution_count": 219,
   "id": "1a3e9911",
   "metadata": {},
   "outputs": [
    {
     "data": {
      "text/html": [
       "<div>\n",
       "<style scoped>\n",
       "    .dataframe tbody tr th:only-of-type {\n",
       "        vertical-align: middle;\n",
       "    }\n",
       "\n",
       "    .dataframe tbody tr th {\n",
       "        vertical-align: top;\n",
       "    }\n",
       "\n",
       "    .dataframe thead th {\n",
       "        text-align: right;\n",
       "    }\n",
       "</style>\n",
       "<table border=\"1\" class=\"dataframe\">\n",
       "  <thead>\n",
       "    <tr style=\"text-align: right;\">\n",
       "      <th></th>\n",
       "      <th>Year</th>\n",
       "      <th>Appearnces</th>\n",
       "      <th>Gender_Female</th>\n",
       "      <th>Gender_Male</th>\n",
       "      <th>Gender_Other</th>\n",
       "      <th>M Status_Married</th>\n",
       "      <th>M Status_Other</th>\n",
       "      <th>M Status_Single</th>\n",
       "      <th>M Status_Widowed</th>\n",
       "      <th>Hair C_Bald</th>\n",
       "      <th>...</th>\n",
       "      <th>L status_Deceased</th>\n",
       "      <th>Identity_Known to Authorities</th>\n",
       "      <th>Identity_No Dual</th>\n",
       "      <th>Identity_Public</th>\n",
       "      <th>Identity_Secret</th>\n",
       "      <th>Reality_Earth-1610</th>\n",
       "      <th>Reality_Earth-199999</th>\n",
       "      <th>Reality_Earth-616</th>\n",
       "      <th>Reality_Earth-928</th>\n",
       "      <th>Reality_Other</th>\n",
       "    </tr>\n",
       "  </thead>\n",
       "  <tbody>\n",
       "    <tr>\n",
       "      <th>count</th>\n",
       "      <td>24504.000000</td>\n",
       "      <td>24504.000000</td>\n",
       "      <td>24504.000000</td>\n",
       "      <td>24504.000000</td>\n",
       "      <td>24504.000000</td>\n",
       "      <td>24504.000000</td>\n",
       "      <td>24504.000000</td>\n",
       "      <td>24504.000000</td>\n",
       "      <td>24504.000000</td>\n",
       "      <td>24504.000000</td>\n",
       "      <td>...</td>\n",
       "      <td>24504.000000</td>\n",
       "      <td>24504.000000</td>\n",
       "      <td>24504.000000</td>\n",
       "      <td>24504.000000</td>\n",
       "      <td>24504.000000</td>\n",
       "      <td>24504.000000</td>\n",
       "      <td>24504.000000</td>\n",
       "      <td>24504.000000</td>\n",
       "      <td>24504.000000</td>\n",
       "      <td>24504.000000</td>\n",
       "    </tr>\n",
       "    <tr>\n",
       "      <th>mean</th>\n",
       "      <td>1991.670421</td>\n",
       "      <td>13.477432</td>\n",
       "      <td>0.294891</td>\n",
       "      <td>0.698661</td>\n",
       "      <td>0.006448</td>\n",
       "      <td>0.195274</td>\n",
       "      <td>0.033872</td>\n",
       "      <td>0.719474</td>\n",
       "      <td>0.051379</td>\n",
       "      <td>0.053257</td>\n",
       "      <td>...</td>\n",
       "      <td>0.271507</td>\n",
       "      <td>0.009468</td>\n",
       "      <td>0.664218</td>\n",
       "      <td>0.131978</td>\n",
       "      <td>0.194336</td>\n",
       "      <td>0.015712</td>\n",
       "      <td>0.027261</td>\n",
       "      <td>0.733758</td>\n",
       "      <td>0.012855</td>\n",
       "      <td>0.210415</td>\n",
       "    </tr>\n",
       "    <tr>\n",
       "      <th>std</th>\n",
       "      <td>40.648352</td>\n",
       "      <td>82.139707</td>\n",
       "      <td>0.456003</td>\n",
       "      <td>0.458849</td>\n",
       "      <td>0.080041</td>\n",
       "      <td>0.396420</td>\n",
       "      <td>0.180903</td>\n",
       "      <td>0.449265</td>\n",
       "      <td>0.220775</td>\n",
       "      <td>0.224549</td>\n",
       "      <td>...</td>\n",
       "      <td>0.444746</td>\n",
       "      <td>0.096843</td>\n",
       "      <td>0.472273</td>\n",
       "      <td>0.338474</td>\n",
       "      <td>0.395696</td>\n",
       "      <td>0.124360</td>\n",
       "      <td>0.162846</td>\n",
       "      <td>0.442001</td>\n",
       "      <td>0.112651</td>\n",
       "      <td>0.407611</td>\n",
       "    </tr>\n",
       "    <tr>\n",
       "      <th>min</th>\n",
       "      <td>2.000000</td>\n",
       "      <td>1.000000</td>\n",
       "      <td>0.000000</td>\n",
       "      <td>0.000000</td>\n",
       "      <td>0.000000</td>\n",
       "      <td>0.000000</td>\n",
       "      <td>0.000000</td>\n",
       "      <td>0.000000</td>\n",
       "      <td>0.000000</td>\n",
       "      <td>0.000000</td>\n",
       "      <td>...</td>\n",
       "      <td>0.000000</td>\n",
       "      <td>0.000000</td>\n",
       "      <td>0.000000</td>\n",
       "      <td>0.000000</td>\n",
       "      <td>0.000000</td>\n",
       "      <td>0.000000</td>\n",
       "      <td>0.000000</td>\n",
       "      <td>0.000000</td>\n",
       "      <td>0.000000</td>\n",
       "      <td>0.000000</td>\n",
       "    </tr>\n",
       "    <tr>\n",
       "      <th>25%</th>\n",
       "      <td>1980.000000</td>\n",
       "      <td>1.000000</td>\n",
       "      <td>0.000000</td>\n",
       "      <td>0.000000</td>\n",
       "      <td>0.000000</td>\n",
       "      <td>0.000000</td>\n",
       "      <td>0.000000</td>\n",
       "      <td>0.000000</td>\n",
       "      <td>0.000000</td>\n",
       "      <td>0.000000</td>\n",
       "      <td>...</td>\n",
       "      <td>0.000000</td>\n",
       "      <td>0.000000</td>\n",
       "      <td>0.000000</td>\n",
       "      <td>0.000000</td>\n",
       "      <td>0.000000</td>\n",
       "      <td>0.000000</td>\n",
       "      <td>0.000000</td>\n",
       "      <td>0.000000</td>\n",
       "      <td>0.000000</td>\n",
       "      <td>0.000000</td>\n",
       "    </tr>\n",
       "    <tr>\n",
       "      <th>50%</th>\n",
       "      <td>1995.000000</td>\n",
       "      <td>2.000000</td>\n",
       "      <td>0.000000</td>\n",
       "      <td>1.000000</td>\n",
       "      <td>0.000000</td>\n",
       "      <td>0.000000</td>\n",
       "      <td>0.000000</td>\n",
       "      <td>1.000000</td>\n",
       "      <td>0.000000</td>\n",
       "      <td>0.000000</td>\n",
       "      <td>...</td>\n",
       "      <td>0.000000</td>\n",
       "      <td>0.000000</td>\n",
       "      <td>1.000000</td>\n",
       "      <td>0.000000</td>\n",
       "      <td>0.000000</td>\n",
       "      <td>0.000000</td>\n",
       "      <td>0.000000</td>\n",
       "      <td>1.000000</td>\n",
       "      <td>0.000000</td>\n",
       "      <td>0.000000</td>\n",
       "    </tr>\n",
       "    <tr>\n",
       "      <th>75%</th>\n",
       "      <td>2009.000000</td>\n",
       "      <td>6.000000</td>\n",
       "      <td>1.000000</td>\n",
       "      <td>1.000000</td>\n",
       "      <td>0.000000</td>\n",
       "      <td>0.000000</td>\n",
       "      <td>0.000000</td>\n",
       "      <td>1.000000</td>\n",
       "      <td>0.000000</td>\n",
       "      <td>0.000000</td>\n",
       "      <td>...</td>\n",
       "      <td>1.000000</td>\n",
       "      <td>0.000000</td>\n",
       "      <td>1.000000</td>\n",
       "      <td>0.000000</td>\n",
       "      <td>0.000000</td>\n",
       "      <td>0.000000</td>\n",
       "      <td>0.000000</td>\n",
       "      <td>1.000000</td>\n",
       "      <td>0.000000</td>\n",
       "      <td>0.000000</td>\n",
       "    </tr>\n",
       "    <tr>\n",
       "      <th>max</th>\n",
       "      <td>2022.000000</td>\n",
       "      <td>4199.000000</td>\n",
       "      <td>1.000000</td>\n",
       "      <td>1.000000</td>\n",
       "      <td>1.000000</td>\n",
       "      <td>1.000000</td>\n",
       "      <td>1.000000</td>\n",
       "      <td>1.000000</td>\n",
       "      <td>1.000000</td>\n",
       "      <td>1.000000</td>\n",
       "      <td>...</td>\n",
       "      <td>1.000000</td>\n",
       "      <td>1.000000</td>\n",
       "      <td>1.000000</td>\n",
       "      <td>1.000000</td>\n",
       "      <td>1.000000</td>\n",
       "      <td>1.000000</td>\n",
       "      <td>1.000000</td>\n",
       "      <td>1.000000</td>\n",
       "      <td>1.000000</td>\n",
       "      <td>1.000000</td>\n",
       "    </tr>\n",
       "  </tbody>\n",
       "</table>\n",
       "<p>8 rows × 39 columns</p>\n",
       "</div>"
      ],
      "text/plain": [
       "               Year    Appearnces  Gender_Female   Gender_Male  Gender_Other  \\\n",
       "count  24504.000000  24504.000000   24504.000000  24504.000000  24504.000000   \n",
       "mean    1991.670421     13.477432       0.294891      0.698661      0.006448   \n",
       "std       40.648352     82.139707       0.456003      0.458849      0.080041   \n",
       "min        2.000000      1.000000       0.000000      0.000000      0.000000   \n",
       "25%     1980.000000      1.000000       0.000000      0.000000      0.000000   \n",
       "50%     1995.000000      2.000000       0.000000      1.000000      0.000000   \n",
       "75%     2009.000000      6.000000       1.000000      1.000000      0.000000   \n",
       "max     2022.000000   4199.000000       1.000000      1.000000      1.000000   \n",
       "\n",
       "       M Status_Married  M Status_Other  M Status_Single  M Status_Widowed  \\\n",
       "count      24504.000000    24504.000000     24504.000000      24504.000000   \n",
       "mean           0.195274        0.033872         0.719474          0.051379   \n",
       "std            0.396420        0.180903         0.449265          0.220775   \n",
       "min            0.000000        0.000000         0.000000          0.000000   \n",
       "25%            0.000000        0.000000         0.000000          0.000000   \n",
       "50%            0.000000        0.000000         1.000000          0.000000   \n",
       "75%            0.000000        0.000000         1.000000          0.000000   \n",
       "max            1.000000        1.000000         1.000000          1.000000   \n",
       "\n",
       "        Hair C_Bald  ...  L status_Deceased  Identity_Known to Authorities  \\\n",
       "count  24504.000000  ...       24504.000000                   24504.000000   \n",
       "mean       0.053257  ...           0.271507                       0.009468   \n",
       "std        0.224549  ...           0.444746                       0.096843   \n",
       "min        0.000000  ...           0.000000                       0.000000   \n",
       "25%        0.000000  ...           0.000000                       0.000000   \n",
       "50%        0.000000  ...           0.000000                       0.000000   \n",
       "75%        0.000000  ...           1.000000                       0.000000   \n",
       "max        1.000000  ...           1.000000                       1.000000   \n",
       "\n",
       "       Identity_No Dual  Identity_Public  Identity_Secret  Reality_Earth-1610  \\\n",
       "count      24504.000000     24504.000000     24504.000000        24504.000000   \n",
       "mean           0.664218         0.131978         0.194336            0.015712   \n",
       "std            0.472273         0.338474         0.395696            0.124360   \n",
       "min            0.000000         0.000000         0.000000            0.000000   \n",
       "25%            0.000000         0.000000         0.000000            0.000000   \n",
       "50%            1.000000         0.000000         0.000000            0.000000   \n",
       "75%            1.000000         0.000000         0.000000            0.000000   \n",
       "max            1.000000         1.000000         1.000000            1.000000   \n",
       "\n",
       "       Reality_Earth-199999  Reality_Earth-616  Reality_Earth-928  \\\n",
       "count          24504.000000       24504.000000       24504.000000   \n",
       "mean               0.027261           0.733758           0.012855   \n",
       "std                0.162846           0.442001           0.112651   \n",
       "min                0.000000           0.000000           0.000000   \n",
       "25%                0.000000           0.000000           0.000000   \n",
       "50%                0.000000           1.000000           0.000000   \n",
       "75%                0.000000           1.000000           0.000000   \n",
       "max                1.000000           1.000000           1.000000   \n",
       "\n",
       "       Reality_Other  \n",
       "count   24504.000000  \n",
       "mean        0.210415  \n",
       "std         0.407611  \n",
       "min         0.000000  \n",
       "25%         0.000000  \n",
       "50%         0.000000  \n",
       "75%         0.000000  \n",
       "max         1.000000  \n",
       "\n",
       "[8 rows x 39 columns]"
      ]
     },
     "execution_count": 219,
     "metadata": {},
     "output_type": "execute_result"
    }
   ],
   "source": [
    "df8.describe()"
   ]
  }
 ],
 "metadata": {
  "kernelspec": {
   "display_name": "Python 3 (ipykernel)",
   "language": "python",
   "name": "python3"
  },
  "language_info": {
   "codemirror_mode": {
    "name": "ipython",
    "version": 3
   },
   "file_extension": ".py",
   "mimetype": "text/x-python",
   "name": "python",
   "nbconvert_exporter": "python",
   "pygments_lexer": "ipython3",
   "version": "3.9.7"
  }
 },
 "nbformat": 4,
 "nbformat_minor": 5
}
