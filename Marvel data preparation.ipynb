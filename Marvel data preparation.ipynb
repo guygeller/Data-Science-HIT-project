{
 "cells": [
  {
   "cell_type": "code",
   "execution_count": 47,
   "id": "18b82929",
   "metadata": {},
   "outputs": [],
   "source": [
    "import pandas as pd\n",
    "import numpy as np\n",
    "import seaborn as sns"
   ]
  },
  {
   "cell_type": "code",
   "execution_count": null,
   "id": "34452125",
   "metadata": {},
   "outputs": [],
   "source": [
    "# At this point, we did some manual cleanig in Excel.\n",
    "# Such as replaced common not usefull string with empty string\n",
    "df = pd.read_csv('Marvel full Dataframe.csv', low_memory = False)\n",
    "df.shape\n",
    "# ended up with the shape: (74929, 12)"
   ]
  },
  {
   "cell_type": "code",
   "execution_count": null,
   "id": "b5bc3ded",
   "metadata": {},
   "outputs": [],
   "source": [
    "## drops column that added by the 'read_csv' call\n",
    "df.drop(labels = 'Unnamed: 0',axis = 1, inplace = True)\n",
    "\n",
    "## drops all duplicates\n",
    "df.drop_duplicates(inplace = True, ignore_index = True)\n",
    "\n",
    "## drop empty rows\n",
    "df.dropna(axis = 0, how = 'all',inplace = True)\n",
    "\n",
    "## drops rows with 2 NA features\n",
    "df.dropna(axis = 0, how ='any', thresh = 9 ,inplace= True)\n",
    "\n",
    "df.shape\n",
    "# Ended up with the shape: (52456, 11)"
   ]
  },
  {
   "cell_type": "code",
   "execution_count": null,
   "id": "62841fce",
   "metadata": {},
   "outputs": [],
   "source": [
    "## Cleaning the 'Year' column\n",
    "## Any cells which are not numbers make them 'None'\n",
    "year = df['Year']\n",
    "for i, x in enumerate(year.tolist()):\n",
    "    if x.isdigit() == False:\n",
    "            year[i] = None\n",
    "df['Year'] = year\n",
    "\n",
    "## Cleaning the 'Appearnces' column\n",
    "## Any cells which are not numbers make them 'None'\n",
    "appearnces = df['Appearnces']\n",
    "for i, x in enumerate(appearnces.tolist()):\n",
    "    if x.isdigit() == False:\n",
    "            appearnces[i] = None\n",
    "            \n",
    "df['Appearnces'] = appearnces"
   ]
  },
  {
   "cell_type": "code",
   "execution_count": null,
   "id": "d05256a6",
   "metadata": {},
   "outputs": [],
   "source": [
    "# fill the missing values with 'first fill' method\n",
    "df.fillna(method = 'ffill', axis = 0, inplace = True)\n",
    "\n",
    "# reset the Indexes\n",
    "df.reset_index(level=None, drop=True, inplace=True, col_level=0, col_fill='')"
   ]
  },
  {
   "cell_type": "code",
   "execution_count": null,
   "id": "ad905878",
   "metadata": {},
   "outputs": [],
   "source": [
    "# We sorted the data frame by 'Appearnces' and droped character\n",
    "# with the same name and kept the one with the highest appearnces\n",
    "df_sorted = df.sort_values(by =['Appearnces'])\n",
    "df_sorted.drop_duplicates(subset=['Name'], keep='last', inplace=True, ignore_index=True)\n",
    "df_sorted.sort_values(by =['Name'], inplace=True, ignore_index=True)\n",
    "df = df_sorted"
   ]
  },
  {
   "cell_type": "code",
   "execution_count": 427,
   "id": "3ed049cd",
   "metadata": {},
   "outputs": [
    {
     "data": {
      "text/html": [
       "<div>\n",
       "<style scoped>\n",
       "    .dataframe tbody tr th:only-of-type {\n",
       "        vertical-align: middle;\n",
       "    }\n",
       "\n",
       "    .dataframe tbody tr th {\n",
       "        vertical-align: top;\n",
       "    }\n",
       "\n",
       "    .dataframe thead th {\n",
       "        text-align: right;\n",
       "    }\n",
       "</style>\n",
       "<table border=\"1\" class=\"dataframe\">\n",
       "  <thead>\n",
       "    <tr style=\"text-align: right;\">\n",
       "      <th></th>\n",
       "      <th>Name</th>\n",
       "      <th>Marital Status</th>\n",
       "      <th>Reality</th>\n",
       "      <th>Gender</th>\n",
       "      <th>Hair Color</th>\n",
       "      <th>Eye Color</th>\n",
       "      <th>Living status</th>\n",
       "      <th>Identity</th>\n",
       "      <th>Citenzenship</th>\n",
       "      <th>Year</th>\n",
       "      <th>Appearnces</th>\n",
       "    </tr>\n",
       "  </thead>\n",
       "  <tbody>\n",
       "    <tr>\n",
       "      <th>0</th>\n",
       "      <td>Bryant</td>\n",
       "      <td>Single</td>\n",
       "      <td>Earth-616</td>\n",
       "      <td>Male</td>\n",
       "      <td>Brown</td>\n",
       "      <td>Green</td>\n",
       "      <td>Alive</td>\n",
       "      <td>No Dual</td>\n",
       "      <td>American</td>\n",
       "      <td>2018</td>\n",
       "      <td>3</td>\n",
       "    </tr>\n",
       "    <tr>\n",
       "      <th>1</th>\n",
       "      <td>Tanner</td>\n",
       "      <td>Single</td>\n",
       "      <td>Earth-616</td>\n",
       "      <td>Male</td>\n",
       "      <td>Brown</td>\n",
       "      <td>Brown</td>\n",
       "      <td>Alive</td>\n",
       "      <td>No Dual</td>\n",
       "      <td>British</td>\n",
       "      <td>1976</td>\n",
       "      <td>12</td>\n",
       "    </tr>\n",
       "    <tr>\n",
       "      <th>2</th>\n",
       "      <td>\"AJ\"</td>\n",
       "      <td>Single</td>\n",
       "      <td>Earth-199999</td>\n",
       "      <td>Male</td>\n",
       "      <td>Black</td>\n",
       "      <td>Brown</td>\n",
       "      <td>Alive</td>\n",
       "      <td>No Dual</td>\n",
       "      <td>American</td>\n",
       "      <td>2021</td>\n",
       "      <td>3</td>\n",
       "    </tr>\n",
       "    <tr>\n",
       "      <th>3</th>\n",
       "      <td>\"Froggy\" Neilsen</td>\n",
       "      <td>Single</td>\n",
       "      <td>Earth-9047</td>\n",
       "      <td>Male</td>\n",
       "      <td>Brown</td>\n",
       "      <td>Blue</td>\n",
       "      <td>Alive</td>\n",
       "      <td>Public</td>\n",
       "      <td>American</td>\n",
       "      <td>1988</td>\n",
       "      <td>2</td>\n",
       "    </tr>\n",
       "    <tr>\n",
       "      <th>4</th>\n",
       "      <td>\"Rico\" Richards</td>\n",
       "      <td>Single</td>\n",
       "      <td>Earth-41001</td>\n",
       "      <td>Male</td>\n",
       "      <td>Blond</td>\n",
       "      <td>Blue</td>\n",
       "      <td>Alive</td>\n",
       "      <td>Public</td>\n",
       "      <td>American</td>\n",
       "      <td>2008</td>\n",
       "      <td>10</td>\n",
       "    </tr>\n",
       "    <tr>\n",
       "      <th>...</th>\n",
       "      <td>...</td>\n",
       "      <td>...</td>\n",
       "      <td>...</td>\n",
       "      <td>...</td>\n",
       "      <td>...</td>\n",
       "      <td>...</td>\n",
       "      <td>...</td>\n",
       "      <td>...</td>\n",
       "      <td>...</td>\n",
       "      <td>...</td>\n",
       "      <td>...</td>\n",
       "    </tr>\n",
       "    <tr>\n",
       "      <th>24499</th>\n",
       "      <td>von Widemouth</td>\n",
       "      <td>Single</td>\n",
       "      <td>Earth-616</td>\n",
       "      <td>Male</td>\n",
       "      <td>Brown</td>\n",
       "      <td>Red</td>\n",
       "      <td>Deceased</td>\n",
       "      <td>No Dual</td>\n",
       "      <td>German</td>\n",
       "      <td>1943</td>\n",
       "      <td>1</td>\n",
       "    </tr>\n",
       "    <tr>\n",
       "      <th>24500</th>\n",
       "      <td>Äkräs</td>\n",
       "      <td>Single</td>\n",
       "      <td>Earth-TRN517</td>\n",
       "      <td>Male</td>\n",
       "      <td>White</td>\n",
       "      <td>Yellow</td>\n",
       "      <td>Alive</td>\n",
       "      <td>No Dual</td>\n",
       "      <td>Battlerealm</td>\n",
       "      <td>2018</td>\n",
       "      <td>1</td>\n",
       "    </tr>\n",
       "    <tr>\n",
       "      <th>24501</th>\n",
       "      <td>Ögedei Khan</td>\n",
       "      <td>Married</td>\n",
       "      <td>Earth-616</td>\n",
       "      <td>Male</td>\n",
       "      <td>Black</td>\n",
       "      <td>Black</td>\n",
       "      <td>Deceased</td>\n",
       "      <td>No Dual</td>\n",
       "      <td>Mongolian</td>\n",
       "      <td>2021</td>\n",
       "      <td>1</td>\n",
       "    </tr>\n",
       "    <tr>\n",
       "      <th>24502</th>\n",
       "      <td>Øde</td>\n",
       "      <td>Married</td>\n",
       "      <td>Earth-616</td>\n",
       "      <td>Male</td>\n",
       "      <td>No Hair At All</td>\n",
       "      <td>Black</td>\n",
       "      <td>Deceased</td>\n",
       "      <td>No Dual</td>\n",
       "      <td>Unknown</td>\n",
       "      <td>2020</td>\n",
       "      <td>2</td>\n",
       "    </tr>\n",
       "    <tr>\n",
       "      <th>24503</th>\n",
       "      <td>Ṣalāḥ ad-Dīn Yūsuf ibn Ayyūb</td>\n",
       "      <td>Single</td>\n",
       "      <td>Earth-616</td>\n",
       "      <td>Male</td>\n",
       "      <td>Black</td>\n",
       "      <td>Brown</td>\n",
       "      <td>Deceased</td>\n",
       "      <td>Public</td>\n",
       "      <td>Egypt</td>\n",
       "      <td>1948</td>\n",
       "      <td>4</td>\n",
       "    </tr>\n",
       "  </tbody>\n",
       "</table>\n",
       "<p>24504 rows × 11 columns</p>\n",
       "</div>"
      ],
      "text/plain": [
       "                               Name Marital Status       Reality Gender  \\\n",
       "0                            Bryant         Single     Earth-616   Male   \n",
       "1                            Tanner         Single     Earth-616   Male   \n",
       "2                             \"AJ\"          Single  Earth-199999   Male   \n",
       "3                 \"Froggy\" Neilsen          Single    Earth-9047   Male   \n",
       "4                   \"Rico\" Richards         Single   Earth-41001   Male   \n",
       "...                             ...            ...           ...    ...   \n",
       "24499                von Widemouth          Single     Earth-616   Male   \n",
       "24500                         Äkräs         Single  Earth-TRN517   Male   \n",
       "24501                   Ögedei Khan        Married     Earth-616   Male   \n",
       "24502                           Øde        Married     Earth-616   Male   \n",
       "24503  Ṣalāḥ ad-Dīn Yūsuf ibn Ayyūb         Single     Earth-616   Male   \n",
       "\n",
       "           Hair Color Eye Color Living status Identity Citenzenship  Year  \\\n",
       "0               Brown     Green         Alive  No Dual     American  2018   \n",
       "1               Brown     Brown         Alive  No Dual      British  1976   \n",
       "2               Black     Brown         Alive  No Dual     American  2021   \n",
       "3               Brown      Blue         Alive   Public     American  1988   \n",
       "4               Blond      Blue         Alive   Public     American  2008   \n",
       "...               ...       ...           ...      ...          ...   ...   \n",
       "24499           Brown       Red      Deceased  No Dual       German  1943   \n",
       "24500           White    Yellow         Alive  No Dual  Battlerealm  2018   \n",
       "24501           Black     Black      Deceased  No Dual    Mongolian  2021   \n",
       "24502  No Hair At All     Black      Deceased  No Dual      Unknown  2020   \n",
       "24503           Black     Brown      Deceased   Public        Egypt  1948   \n",
       "\n",
       "       Appearnces  \n",
       "0               3  \n",
       "1              12  \n",
       "2               3  \n",
       "3               2  \n",
       "4              10  \n",
       "...           ...  \n",
       "24499           1  \n",
       "24500           1  \n",
       "24501           1  \n",
       "24502           2  \n",
       "24503           4  \n",
       "\n",
       "[24504 rows x 11 columns]"
      ]
     },
     "execution_count": 427,
     "metadata": {},
     "output_type": "execute_result"
    }
   ],
   "source": [
    "df = pd.read_csv('Marvel Dataframe after drop and fill7.csv')\n",
    "df"
   ]
  },
  {
   "cell_type": "code",
   "execution_count": 428,
   "id": "932d288f",
   "metadata": {},
   "outputs": [
    {
     "name": "stderr",
     "output_type": "stream",
     "text": [
      "C:\\Users\\guyge\\anaconda3\\lib\\site-packages\\seaborn\\_decorators.py:36: FutureWarning: Pass the following variable as a keyword arg: x. From version 0.12, the only valid positional argument will be `data`, and passing other arguments without an explicit keyword will result in an error or misinterpretation.\n",
      "  warnings.warn(\n"
     ]
    },
    {
     "data": {
      "text/plain": [
       "<AxesSubplot:xlabel='Year'>"
      ]
     },
     "execution_count": 428,
     "metadata": {},
     "output_type": "execute_result"
    },
    {
     "data": {
      "image/png": "[encoded data removed]",
      "text/plain": [
       "<Figure size 432x288 with 1 Axes>"
      ]
     },
     "metadata": {
      "needs_background": "light"
     },
     "output_type": "display_data"
    }
   ],
   "source": [
    "sns.boxplot(df.Year)"
   ]
  },
  {
   "cell_type": "code",
   "execution_count": 429,
   "id": "5ba9b153",
   "metadata": {},
   "outputs": [
    {
     "name": "stderr",
     "output_type": "stream",
     "text": [
      "C:\\Users\\guyge\\anaconda3\\lib\\site-packages\\seaborn\\_decorators.py:36: FutureWarning: Pass the following variable as a keyword arg: x. From version 0.12, the only valid positional argument will be `data`, and passing other arguments without an explicit keyword will result in an error or misinterpretation.\n",
      "  warnings.warn(\n"
     ]
    },
    {
     "data": {
      "text/plain": [
       "<AxesSubplot:xlabel='Appearnces'>"
      ]
     },
     "execution_count": 429,
     "metadata": {},
     "output_type": "execute_result"
    },
    {
     "data": {
      "image/png": "[encoded data removed]",
      "text/plain": [
       "<Figure size 432x288 with 1 Axes>"
      ]
     },
     "metadata": {
      "needs_background": "light"
     },
     "output_type": "display_data"
    }
   ],
   "source": [
    "sns.boxplot(df.Appearnces)"
   ]
  },
  {
   "cell_type": "code",
   "execution_count": 430,
   "id": "12c1fcb0",
   "metadata": {},
   "outputs": [
    {
     "name": "stderr",
     "output_type": "stream",
     "text": [
      "C:\\Users\\guyge\\anaconda3\\lib\\site-packages\\seaborn\\_decorators.py:36: FutureWarning: Pass the following variable as a keyword arg: x. From version 0.12, the only valid positional argument will be `data`, and passing other arguments without an explicit keyword will result in an error or misinterpretation.\n",
      "  warnings.warn(\n"
     ]
    },
    {
     "data": {
      "text/plain": [
       "<AxesSubplot:xlabel='Appearnces'>"
      ]
     },
     "execution_count": 430,
     "metadata": {},
     "output_type": "execute_result"
    },
    {
     "data": {
      "image/png": "[encoded data removed]",
      "text/plain": [
       "<Figure size 432x288 with 1 Axes>"
      ]
     },
     "metadata": {
      "needs_background": "light"
     },
     "output_type": "display_data"
    }
   ],
   "source": [
    "df['Appearnces'] = np.log(df.Appearnces)\n",
    "sns.boxplot(df.Appearnces)"
   ]
  },
  {
   "cell_type": "code",
   "execution_count": 431,
   "id": "4f197c97",
   "metadata": {
    "scrolled": true
   },
   "outputs": [],
   "source": [
    "# Q1 = np.percentile(df[\"Appearnces\"], 25)\n",
    "# Q3 = np.percentile(df[\"Appearnces\"], 75)\n",
    "# IQR = Q3 - Q1\n",
    "# df.Appearnces[(df[\"Appearnces\"] < Q1 - 1.5*IQR) | (df[\"Appearnces\"] > Q3 + 1.5*IQR )] = np.nan\n",
    "# df.Appearnces.count()\n",
    "# sns.boxplot(df.Appearnces)"
   ]
  },
  {
   "cell_type": "code",
   "execution_count": 432,
   "id": "6d29e576",
   "metadata": {},
   "outputs": [],
   "source": [
    "# z_score = (df[\"Appearnces\"] - df[\"Appearnces\"].mean()) / df[\"Appearnces\"].std()\n",
    "# outliers = abs(z_score) > 3\n",
    "# df.Appearnces[outliers] = np.nan\n",
    "# df.Appearnces.count()\n",
    "# sns.boxplot(df.Appearnces)"
   ]
  },
  {
   "cell_type": "code",
   "execution_count": 433,
   "id": "53f3a969",
   "metadata": {},
   "outputs": [],
   "source": [
    "# df['Appearnces'].fillna((df['Appearnces'].median()), inplace=True)\n",
    "# sns.boxplot(df.Appearnces)"
   ]
  },
  {
   "cell_type": "code",
   "execution_count": 434,
   "id": "69cb5908",
   "metadata": {},
   "outputs": [
    {
     "data": {
      "text/html": [
       "<div>\n",
       "<style scoped>\n",
       "    .dataframe tbody tr th:only-of-type {\n",
       "        vertical-align: middle;\n",
       "    }\n",
       "\n",
       "    .dataframe tbody tr th {\n",
       "        vertical-align: top;\n",
       "    }\n",
       "\n",
       "    .dataframe thead th {\n",
       "        text-align: right;\n",
       "    }\n",
       "</style>\n",
       "<table border=\"1\" class=\"dataframe\">\n",
       "  <thead>\n",
       "    <tr style=\"text-align: right;\">\n",
       "      <th></th>\n",
       "      <th>Name</th>\n",
       "      <th>Marital Status</th>\n",
       "      <th>Reality</th>\n",
       "      <th>Gender</th>\n",
       "      <th>Hair Color</th>\n",
       "      <th>Eye Color</th>\n",
       "      <th>Living status</th>\n",
       "      <th>Identity</th>\n",
       "      <th>Citenzenship</th>\n",
       "      <th>Year</th>\n",
       "      <th>Appearnces</th>\n",
       "    </tr>\n",
       "  </thead>\n",
       "  <tbody>\n",
       "    <tr>\n",
       "      <th>0</th>\n",
       "      <td>\"AJ\"</td>\n",
       "      <td>Single</td>\n",
       "      <td>Earth-199999</td>\n",
       "      <td>Male</td>\n",
       "      <td>Black</td>\n",
       "      <td>Brown</td>\n",
       "      <td>Alive</td>\n",
       "      <td>No Dual</td>\n",
       "      <td>American</td>\n",
       "      <td>2021</td>\n",
       "      <td>1.098612</td>\n",
       "    </tr>\n",
       "    <tr>\n",
       "      <th>1</th>\n",
       "      <td>\"Froggy\" Neilsen</td>\n",
       "      <td>Single</td>\n",
       "      <td>Earth-9047</td>\n",
       "      <td>Male</td>\n",
       "      <td>Brown</td>\n",
       "      <td>Blue</td>\n",
       "      <td>Alive</td>\n",
       "      <td>Public</td>\n",
       "      <td>American</td>\n",
       "      <td>1988</td>\n",
       "      <td>0.693147</td>\n",
       "    </tr>\n",
       "    <tr>\n",
       "      <th>2</th>\n",
       "      <td>\"Rico\" Richards</td>\n",
       "      <td>Single</td>\n",
       "      <td>Earth-41001</td>\n",
       "      <td>Male</td>\n",
       "      <td>Blond</td>\n",
       "      <td>Blue</td>\n",
       "      <td>Alive</td>\n",
       "      <td>Public</td>\n",
       "      <td>American</td>\n",
       "      <td>2008</td>\n",
       "      <td>2.302585</td>\n",
       "    </tr>\n",
       "    <tr>\n",
       "      <th>3</th>\n",
       "      <td>\"The Vision\"</td>\n",
       "      <td>Divorced</td>\n",
       "      <td>Earth-616</td>\n",
       "      <td>Male</td>\n",
       "      <td>No Hair At All</td>\n",
       "      <td>Yellow</td>\n",
       "      <td>Alive</td>\n",
       "      <td>No Dual</td>\n",
       "      <td>American</td>\n",
       "      <td>1968</td>\n",
       "      <td>7.020191</td>\n",
       "    </tr>\n",
       "    <tr>\n",
       "      <th>4</th>\n",
       "      <td>#NAME?</td>\n",
       "      <td>Single</td>\n",
       "      <td>Earth-616</td>\n",
       "      <td>Male</td>\n",
       "      <td>No Hair At All</td>\n",
       "      <td>Green</td>\n",
       "      <td>Deceased</td>\n",
       "      <td>Public</td>\n",
       "      <td>Kree Empire</td>\n",
       "      <td>2012</td>\n",
       "      <td>1.098612</td>\n",
       "    </tr>\n",
       "    <tr>\n",
       "      <th>...</th>\n",
       "      <td>...</td>\n",
       "      <td>...</td>\n",
       "      <td>...</td>\n",
       "      <td>...</td>\n",
       "      <td>...</td>\n",
       "      <td>...</td>\n",
       "      <td>...</td>\n",
       "      <td>...</td>\n",
       "      <td>...</td>\n",
       "      <td>...</td>\n",
       "      <td>...</td>\n",
       "    </tr>\n",
       "    <tr>\n",
       "      <th>24499</th>\n",
       "      <td>von Widemouth</td>\n",
       "      <td>Single</td>\n",
       "      <td>Earth-616</td>\n",
       "      <td>Male</td>\n",
       "      <td>Brown</td>\n",
       "      <td>Red</td>\n",
       "      <td>Deceased</td>\n",
       "      <td>No Dual</td>\n",
       "      <td>German</td>\n",
       "      <td>1943</td>\n",
       "      <td>0.000000</td>\n",
       "    </tr>\n",
       "    <tr>\n",
       "      <th>24500</th>\n",
       "      <td>Äkräs</td>\n",
       "      <td>Single</td>\n",
       "      <td>Earth-TRN517</td>\n",
       "      <td>Male</td>\n",
       "      <td>White</td>\n",
       "      <td>Yellow</td>\n",
       "      <td>Alive</td>\n",
       "      <td>No Dual</td>\n",
       "      <td>Battlerealm</td>\n",
       "      <td>2018</td>\n",
       "      <td>0.000000</td>\n",
       "    </tr>\n",
       "    <tr>\n",
       "      <th>24501</th>\n",
       "      <td>Ögedei Khan</td>\n",
       "      <td>Married</td>\n",
       "      <td>Earth-616</td>\n",
       "      <td>Male</td>\n",
       "      <td>Black</td>\n",
       "      <td>Black</td>\n",
       "      <td>Deceased</td>\n",
       "      <td>No Dual</td>\n",
       "      <td>Mongolian</td>\n",
       "      <td>2021</td>\n",
       "      <td>0.000000</td>\n",
       "    </tr>\n",
       "    <tr>\n",
       "      <th>24502</th>\n",
       "      <td>Øde</td>\n",
       "      <td>Married</td>\n",
       "      <td>Earth-616</td>\n",
       "      <td>Male</td>\n",
       "      <td>No Hair At All</td>\n",
       "      <td>Black</td>\n",
       "      <td>Deceased</td>\n",
       "      <td>No Dual</td>\n",
       "      <td>Unknown</td>\n",
       "      <td>2020</td>\n",
       "      <td>0.693147</td>\n",
       "    </tr>\n",
       "    <tr>\n",
       "      <th>24503</th>\n",
       "      <td>Ṣalāḥ ad-Dīn Yūsuf ibn Ayyūb</td>\n",
       "      <td>Single</td>\n",
       "      <td>Earth-616</td>\n",
       "      <td>Male</td>\n",
       "      <td>Black</td>\n",
       "      <td>Brown</td>\n",
       "      <td>Deceased</td>\n",
       "      <td>Public</td>\n",
       "      <td>Egypt</td>\n",
       "      <td>1948</td>\n",
       "      <td>1.386294</td>\n",
       "    </tr>\n",
       "  </tbody>\n",
       "</table>\n",
       "<p>24504 rows × 11 columns</p>\n",
       "</div>"
      ],
      "text/plain": [
       "                               Name Marital Status       Reality Gender  \\\n",
       "0                             \"AJ\"          Single  Earth-199999   Male   \n",
       "1                 \"Froggy\" Neilsen          Single    Earth-9047   Male   \n",
       "2                   \"Rico\" Richards         Single   Earth-41001   Male   \n",
       "3                      \"The Vision\"       Divorced     Earth-616   Male   \n",
       "4                            #NAME?         Single     Earth-616   Male   \n",
       "...                             ...            ...           ...    ...   \n",
       "24499                von Widemouth          Single     Earth-616   Male   \n",
       "24500                         Äkräs         Single  Earth-TRN517   Male   \n",
       "24501                   Ögedei Khan        Married     Earth-616   Male   \n",
       "24502                           Øde        Married     Earth-616   Male   \n",
       "24503  Ṣalāḥ ad-Dīn Yūsuf ibn Ayyūb         Single     Earth-616   Male   \n",
       "\n",
       "           Hair Color Eye Color Living status Identity Citenzenship  Year  \\\n",
       "0               Black     Brown         Alive  No Dual     American  2021   \n",
       "1               Brown      Blue         Alive   Public     American  1988   \n",
       "2               Blond      Blue         Alive   Public     American  2008   \n",
       "3      No Hair At All    Yellow         Alive  No Dual     American  1968   \n",
       "4      No Hair At All     Green      Deceased   Public  Kree Empire  2012   \n",
       "...               ...       ...           ...      ...          ...   ...   \n",
       "24499           Brown       Red      Deceased  No Dual       German  1943   \n",
       "24500           White    Yellow         Alive  No Dual  Battlerealm  2018   \n",
       "24501           Black     Black      Deceased  No Dual    Mongolian  2021   \n",
       "24502  No Hair At All     Black      Deceased  No Dual      Unknown  2020   \n",
       "24503           Black     Brown      Deceased   Public        Egypt  1948   \n",
       "\n",
       "       Appearnces  \n",
       "0        1.098612  \n",
       "1        0.693147  \n",
       "2        2.302585  \n",
       "3        7.020191  \n",
       "4        1.098612  \n",
       "...           ...  \n",
       "24499    0.000000  \n",
       "24500    0.000000  \n",
       "24501    0.000000  \n",
       "24502    0.693147  \n",
       "24503    1.386294  \n",
       "\n",
       "[24504 rows x 11 columns]"
      ]
     },
     "execution_count": 434,
     "metadata": {},
     "output_type": "execute_result"
    }
   ],
   "source": [
    "df.reset_index(level=None, drop=True, inplace=True, col_level=0, col_fill='')\n",
    "df.sort_values(by =['Name'], inplace=True, ignore_index=True)\n",
    "df"
   ]
  },
  {
   "cell_type": "code",
   "execution_count": 435,
   "id": "92008b7b",
   "metadata": {},
   "outputs": [],
   "source": [
    "df.to_csv('Marvel Dataframe before2.csv')"
   ]
  },
  {
   "attachments": {
    "image.png": {
     "image/png": "[encoded data removed]"
    }
   },
   "cell_type": "markdown",
   "id": "fc483611",
   "metadata": {},
   "source": [
    "![image.png](attachment:image.png)"
   ]
  },
  {
   "cell_type": "code",
   "execution_count": 436,
   "id": "9bbca8b0",
   "metadata": {},
   "outputs": [],
   "source": [
    "## Here we chose to keep all categories."
   ]
  },
  {
   "attachments": {
    "image.png": {
     "image/png": "[encoded data removed]"
    }
   },
   "cell_type": "markdown",
   "id": "270f56e7",
   "metadata": {},
   "source": [
    "![image.png](attachment:image.png)"
   ]
  },
  {
   "cell_type": "code",
   "execution_count": 437,
   "id": "07c4f56b",
   "metadata": {},
   "outputs": [
    {
     "name": "stderr",
     "output_type": "stream",
     "text": [
      "C:\\Users\\guyge\\AppData\\Local\\Temp/ipykernel_168920/1915062332.py:6: SettingWithCopyWarning: \n",
      "A value is trying to be set on a copy of a slice from a DataFrame\n",
      "\n",
      "See the caveats in the documentation: https://pandas.pydata.org/pandas-docs/stable/user_guide/indexing.html#returning-a-view-versus-a-copy\n",
      "  gender[i] = 'Other'\n"
     ]
    }
   ],
   "source": [
    "# we Chose to divide into Male, Female and Other\n",
    "gender_label = ['Male','Female']\n",
    "gender = df['Gender']\n",
    "for i,x in enumerate(gender.tolist()):\n",
    "    if x not in gender_label:\n",
    "        gender[i] = 'Other'\n",
    "df['Gender'] = gender"
   ]
  },
  {
   "attachments": {
    "image.png": {
     "image/png": "[encoded data removed]"
    }
   },
   "cell_type": "markdown",
   "id": "2382daf3",
   "metadata": {},
   "source": [
    "![image.png](attachment:image.png)"
   ]
  },
  {
   "cell_type": "code",
   "execution_count": 438,
   "id": "9ca01e0c",
   "metadata": {},
   "outputs": [
    {
     "name": "stderr",
     "output_type": "stream",
     "text": [
      "C:\\Users\\guyge\\AppData\\Local\\Temp/ipykernel_168920/685352419.py:6: SettingWithCopyWarning: \n",
      "A value is trying to be set on a copy of a slice from a DataFrame\n",
      "\n",
      "See the caveats in the documentation: https://pandas.pydata.org/pandas-docs/stable/user_guide/indexing.html#returning-a-view-versus-a-copy\n",
      "  mstatus[i] = 'Other'\n"
     ]
    }
   ],
   "source": [
    "# we Chose to divide into Single, Married which is way above the next status\n",
    "mstatus_labels = ['Married', 'Single']\n",
    "mstatus = df['Marital Status']\n",
    "for i,x in enumerate(mstatus.tolist()):\n",
    "    if x not in mstatus_labels:\n",
    "        mstatus[i] = 'Other'\n",
    "df['Marital Status'] = mstatus"
   ]
  },
  {
   "attachments": {
    "image.png": {
     "image/png": "[encoded data removed]"
    }
   },
   "cell_type": "markdown",
   "id": "4779ce5f",
   "metadata": {},
   "source": [
    "![image.png](attachment:image.png)"
   ]
  },
  {
   "cell_type": "code",
   "execution_count": 439,
   "id": "a443a0be",
   "metadata": {},
   "outputs": [
    {
     "name": "stderr",
     "output_type": "stream",
     "text": [
      "C:\\Users\\guyge\\AppData\\Local\\Temp/ipykernel_168920/1872259874.py:6: SettingWithCopyWarning: \n",
      "A value is trying to be set on a copy of a slice from a DataFrame\n",
      "\n",
      "See the caveats in the documentation: https://pandas.pydata.org/pandas-docs/stable/user_guide/indexing.html#returning-a-view-versus-a-copy\n",
      "  hair_color[i] = 'Other'\n"
     ]
    }
   ],
   "source": [
    "# we Chose to divide into Black, Brown, Blond, No Hair, Red, White which is way above the next one in the chart.\n",
    "hair_color_labels = ['Black', 'Blond', 'Brown', 'Grey', 'No Hair At All', 'Red', 'White']\n",
    "hair_color = df['Hair Color']\n",
    "for i,x in enumerate(hair_color.tolist()):\n",
    "    if x not in hair_color_labels:\n",
    "        hair_color[i] = 'Other'\n",
    "df['Hair Color'] = hair_color"
   ]
  },
  {
   "attachments": {
    "image.png": {
     "image/png": "[encoded data removed]"
    }
   },
   "cell_type": "markdown",
   "id": "5ddf1f78",
   "metadata": {},
   "source": [
    "![image.png](attachment:image.png)"
   ]
  },
  {
   "cell_type": "code",
   "execution_count": 440,
   "id": "f15338cd",
   "metadata": {},
   "outputs": [
    {
     "name": "stdout",
     "output_type": "stream",
     "text": [
      "84.27667822893287 %\n"
     ]
    }
   ],
   "source": [
    "print(((9160+7477+2111+1904)/24505) * 100,'%')"
   ]
  },
  {
   "cell_type": "code",
   "execution_count": 441,
   "id": "052dd51e",
   "metadata": {},
   "outputs": [
    {
     "name": "stderr",
     "output_type": "stream",
     "text": [
      "C:\\Users\\guyge\\AppData\\Local\\Temp/ipykernel_168920/556115365.py:6: SettingWithCopyWarning: \n",
      "A value is trying to be set on a copy of a slice from a DataFrame\n",
      "\n",
      "See the caveats in the documentation: https://pandas.pydata.org/pandas-docs/stable/user_guide/indexing.html#returning-a-view-versus-a-copy\n",
      "  eye_color[i] = 'Other'\n"
     ]
    }
   ],
   "source": [
    "# we Chose to divide into Brown, Blue, Black, Green which represent 84% and Other\n",
    "eye_color_labels = ['Black', 'Blue', 'Brown','Green']\n",
    "eye_color = df['Eye Color']\n",
    "for i,x in enumerate(eye_color.tolist()):\n",
    "    if x not in eye_color_labels:\n",
    "        eye_color[i] = 'Other'\n",
    "df['Eye Color'] = eye_color"
   ]
  },
  {
   "attachments": {
    "image.png": {
     "image/png": "[encoded data removed]"
    }
   },
   "cell_type": "markdown",
   "id": "bf74549f",
   "metadata": {},
   "source": [
    "This is only the top 6 there were many more.\n",
    "![image.png](attachment:image.png)"
   ]
  },
  {
   "cell_type": "code",
   "execution_count": 442,
   "id": "a52b0895",
   "metadata": {},
   "outputs": [
    {
     "name": "stderr",
     "output_type": "stream",
     "text": [
      "C:\\Users\\guyge\\AppData\\Local\\Temp/ipykernel_168920/4040519781.py:6: SettingWithCopyWarning: \n",
      "A value is trying to be set on a copy of a slice from a DataFrame\n",
      "\n",
      "See the caveats in the documentation: https://pandas.pydata.org/pandas-docs/stable/user_guide/indexing.html#returning-a-view-versus-a-copy\n",
      "  citizen[i] = 'Other'\n"
     ]
    }
   ],
   "source": [
    "# we Chose to divide into American which is more then 50% and American and way above the next Citizenship\n",
    "citizen_labels = ['American']\n",
    "citizen = df['Citenzenship']\n",
    "for i,x in enumerate(citizen.tolist()):\n",
    "    if x not in citizen_labels:\n",
    "        citizen[i] = 'Other'\n",
    "df['Citenzenship'] = citizen"
   ]
  },
  {
   "attachments": {
    "image.png": {
     "image/png": "[encoded data removed]"
    }
   },
   "cell_type": "markdown",
   "id": "b1b32ddb",
   "metadata": {},
   "source": [
    "This is only the top 6 there were many more.\n",
    "![image.png](attachment:image.png)"
   ]
  },
  {
   "cell_type": "code",
   "execution_count": 443,
   "id": "5675fe03",
   "metadata": {},
   "outputs": [
    {
     "name": "stderr",
     "output_type": "stream",
     "text": [
      "C:\\Users\\guyge\\AppData\\Local\\Temp/ipykernel_168920/570686255.py:6: SettingWithCopyWarning: \n",
      "A value is trying to be set on a copy of a slice from a DataFrame\n",
      "\n",
      "See the caveats in the documentation: https://pandas.pydata.org/pandas-docs/stable/user_guide/indexing.html#returning-a-view-versus-a-copy\n",
      "  reality[i] = 'Other'\n"
     ]
    }
   ],
   "source": [
    "# we Chose to divide into Earth-616 which is more then 50% and Earth-616 and way above the next Reality\n",
    "reality_label = ['Earth-616']\n",
    "reality = df['Reality']\n",
    "for i,x in enumerate(reality.tolist()):\n",
    "    if x not in reality_label:\n",
    "        reality[i] = 'Other'\n",
    "df['Reality'] = reality"
   ]
  },
  {
   "cell_type": "code",
   "execution_count": 444,
   "id": "78498b50",
   "metadata": {},
   "outputs": [],
   "source": [
    "df.to_csv('Marvel Dataframe before Dummies2.csv')"
   ]
  },
  {
   "cell_type": "code",
   "execution_count": 445,
   "id": "b2c0d07e",
   "metadata": {
    "scrolled": true
   },
   "outputs": [],
   "source": [
    "df2 = pd.get_dummies(df, prefix=['Gender'], prefix_sep='_', dummy_na=False, columns=['Gender'], drop_first=True)"
   ]
  },
  {
   "cell_type": "code",
   "execution_count": 446,
   "id": "a372fe09",
   "metadata": {
    "scrolled": true
   },
   "outputs": [],
   "source": [
    "df3 =  pd.get_dummies(df2, prefix=['M Status'], prefix_sep='_', dummy_na=False, columns=['Marital Status'], drop_first=True)"
   ]
  },
  {
   "cell_type": "code",
   "execution_count": 447,
   "id": "119ed293",
   "metadata": {
    "scrolled": true
   },
   "outputs": [],
   "source": [
    "df4 =  pd.get_dummies(df3, prefix=['Hair C'], prefix_sep='_', dummy_na=False, columns=['Hair Color'], drop_first=True)"
   ]
  },
  {
   "cell_type": "code",
   "execution_count": 448,
   "id": "7ee337e1",
   "metadata": {
    "scrolled": true
   },
   "outputs": [],
   "source": [
    "df5 =  pd.get_dummies(df4, prefix=['Eye C'], prefix_sep='_', dummy_na=False, columns=['Eye Color'], drop_first=True)"
   ]
  },
  {
   "cell_type": "code",
   "execution_count": 449,
   "id": "bbb16a6f",
   "metadata": {},
   "outputs": [],
   "source": [
    "df6 =  pd.get_dummies(df5, prefix=['L status'], prefix_sep='_', dummy_na=False, columns=['Living status'], drop_first=True)"
   ]
  },
  {
   "cell_type": "code",
   "execution_count": 450,
   "id": "c31dfce9",
   "metadata": {},
   "outputs": [],
   "source": [
    "df7 =  pd.get_dummies(df6, prefix=['Identity'], prefix_sep='_', dummy_na=False, columns=['Identity'], drop_first=True)"
   ]
  },
  {
   "cell_type": "code",
   "execution_count": 451,
   "id": "7f589903",
   "metadata": {},
   "outputs": [],
   "source": [
    "df8 = pd.get_dummies(df7, prefix=['Reality'], prefix_sep='_', dummy_na=False, columns=['Reality'], drop_first=True)"
   ]
  },
  {
   "cell_type": "code",
   "execution_count": 452,
   "id": "8ba10490",
   "metadata": {},
   "outputs": [],
   "source": [
    "df9 = pd.get_dummies(df8, prefix=['Citenzenship'], prefix_sep='_', dummy_na=False, columns=['Citenzenship'], drop_first=True)\n",
    "df9.to_csv('Marvel Dataframe after drop and fill12.csv')"
   ]
  },
  {
   "cell_type": "code",
   "execution_count": 453,
   "id": "1a3e9911",
   "metadata": {},
   "outputs": [
    {
     "data": {
      "text/html": [
       "<div>\n",
       "<style scoped>\n",
       "    .dataframe tbody tr th:only-of-type {\n",
       "        vertical-align: middle;\n",
       "    }\n",
       "\n",
       "    .dataframe tbody tr th {\n",
       "        vertical-align: top;\n",
       "    }\n",
       "\n",
       "    .dataframe thead th {\n",
       "        text-align: right;\n",
       "    }\n",
       "</style>\n",
       "<table border=\"1\" class=\"dataframe\">\n",
       "  <thead>\n",
       "    <tr style=\"text-align: right;\">\n",
       "      <th></th>\n",
       "      <th>Year</th>\n",
       "      <th>Appearnces</th>\n",
       "      <th>Gender_Male</th>\n",
       "      <th>Gender_Other</th>\n",
       "      <th>M Status_Other</th>\n",
       "      <th>M Status_Single</th>\n",
       "      <th>Hair C_Blond</th>\n",
       "      <th>Hair C_Brown</th>\n",
       "      <th>Hair C_Grey</th>\n",
       "      <th>Hair C_No Hair At All</th>\n",
       "      <th>...</th>\n",
       "      <th>Eye C_Blue</th>\n",
       "      <th>Eye C_Brown</th>\n",
       "      <th>Eye C_Green</th>\n",
       "      <th>Eye C_Other</th>\n",
       "      <th>L status_Deceased</th>\n",
       "      <th>Identity_No Dual</th>\n",
       "      <th>Identity_Public</th>\n",
       "      <th>Identity_Secret</th>\n",
       "      <th>Reality_Other</th>\n",
       "      <th>Citenzenship_Other</th>\n",
       "    </tr>\n",
       "  </thead>\n",
       "  <tbody>\n",
       "    <tr>\n",
       "      <th>count</th>\n",
       "      <td>24504.000000</td>\n",
       "      <td>24504.000000</td>\n",
       "      <td>24504.000000</td>\n",
       "      <td>24504.000000</td>\n",
       "      <td>24504.000000</td>\n",
       "      <td>24504.000000</td>\n",
       "      <td>24504.000000</td>\n",
       "      <td>24504.000000</td>\n",
       "      <td>24504.000000</td>\n",
       "      <td>24504.000000</td>\n",
       "      <td>...</td>\n",
       "      <td>24504.000000</td>\n",
       "      <td>24504.000000</td>\n",
       "      <td>24504.000000</td>\n",
       "      <td>24504.000000</td>\n",
       "      <td>24504.000000</td>\n",
       "      <td>24504.000000</td>\n",
       "      <td>24504.000000</td>\n",
       "      <td>24504.000000</td>\n",
       "      <td>24504.000000</td>\n",
       "      <td>24504.000000</td>\n",
       "    </tr>\n",
       "    <tr>\n",
       "      <th>mean</th>\n",
       "      <td>1992.304767</td>\n",
       "      <td>1.121848</td>\n",
       "      <td>0.698702</td>\n",
       "      <td>0.006285</td>\n",
       "      <td>0.085251</td>\n",
       "      <td>0.719474</td>\n",
       "      <td>0.144752</td>\n",
       "      <td>0.245470</td>\n",
       "      <td>0.053053</td>\n",
       "      <td>0.119940</td>\n",
       "      <td>...</td>\n",
       "      <td>0.301012</td>\n",
       "      <td>0.373817</td>\n",
       "      <td>0.077702</td>\n",
       "      <td>0.161321</td>\n",
       "      <td>0.271507</td>\n",
       "      <td>0.664218</td>\n",
       "      <td>0.131978</td>\n",
       "      <td>0.194336</td>\n",
       "      <td>0.266242</td>\n",
       "      <td>0.377897</td>\n",
       "    </tr>\n",
       "    <tr>\n",
       "      <th>std</th>\n",
       "      <td>20.740411</td>\n",
       "      <td>1.299832</td>\n",
       "      <td>0.458831</td>\n",
       "      <td>0.079028</td>\n",
       "      <td>0.279261</td>\n",
       "      <td>0.449265</td>\n",
       "      <td>0.351858</td>\n",
       "      <td>0.430374</td>\n",
       "      <td>0.224143</td>\n",
       "      <td>0.324898</td>\n",
       "      <td>...</td>\n",
       "      <td>0.458707</td>\n",
       "      <td>0.483826</td>\n",
       "      <td>0.267707</td>\n",
       "      <td>0.367834</td>\n",
       "      <td>0.444746</td>\n",
       "      <td>0.472273</td>\n",
       "      <td>0.338474</td>\n",
       "      <td>0.395696</td>\n",
       "      <td>0.442001</td>\n",
       "      <td>0.484872</td>\n",
       "    </tr>\n",
       "    <tr>\n",
       "      <th>min</th>\n",
       "      <td>1939.000000</td>\n",
       "      <td>0.000000</td>\n",
       "      <td>0.000000</td>\n",
       "      <td>0.000000</td>\n",
       "      <td>0.000000</td>\n",
       "      <td>0.000000</td>\n",
       "      <td>0.000000</td>\n",
       "      <td>0.000000</td>\n",
       "      <td>0.000000</td>\n",
       "      <td>0.000000</td>\n",
       "      <td>...</td>\n",
       "      <td>0.000000</td>\n",
       "      <td>0.000000</td>\n",
       "      <td>0.000000</td>\n",
       "      <td>0.000000</td>\n",
       "      <td>0.000000</td>\n",
       "      <td>0.000000</td>\n",
       "      <td>0.000000</td>\n",
       "      <td>0.000000</td>\n",
       "      <td>0.000000</td>\n",
       "      <td>0.000000</td>\n",
       "    </tr>\n",
       "    <tr>\n",
       "      <th>25%</th>\n",
       "      <td>1980.000000</td>\n",
       "      <td>0.000000</td>\n",
       "      <td>0.000000</td>\n",
       "      <td>0.000000</td>\n",
       "      <td>0.000000</td>\n",
       "      <td>0.000000</td>\n",
       "      <td>0.000000</td>\n",
       "      <td>0.000000</td>\n",
       "      <td>0.000000</td>\n",
       "      <td>0.000000</td>\n",
       "      <td>...</td>\n",
       "      <td>0.000000</td>\n",
       "      <td>0.000000</td>\n",
       "      <td>0.000000</td>\n",
       "      <td>0.000000</td>\n",
       "      <td>0.000000</td>\n",
       "      <td>0.000000</td>\n",
       "      <td>0.000000</td>\n",
       "      <td>0.000000</td>\n",
       "      <td>0.000000</td>\n",
       "      <td>0.000000</td>\n",
       "    </tr>\n",
       "    <tr>\n",
       "      <th>50%</th>\n",
       "      <td>1995.000000</td>\n",
       "      <td>0.693147</td>\n",
       "      <td>1.000000</td>\n",
       "      <td>0.000000</td>\n",
       "      <td>0.000000</td>\n",
       "      <td>1.000000</td>\n",
       "      <td>0.000000</td>\n",
       "      <td>0.000000</td>\n",
       "      <td>0.000000</td>\n",
       "      <td>0.000000</td>\n",
       "      <td>...</td>\n",
       "      <td>0.000000</td>\n",
       "      <td>0.000000</td>\n",
       "      <td>0.000000</td>\n",
       "      <td>0.000000</td>\n",
       "      <td>0.000000</td>\n",
       "      <td>1.000000</td>\n",
       "      <td>0.000000</td>\n",
       "      <td>0.000000</td>\n",
       "      <td>0.000000</td>\n",
       "      <td>0.000000</td>\n",
       "    </tr>\n",
       "    <tr>\n",
       "      <th>75%</th>\n",
       "      <td>2009.000000</td>\n",
       "      <td>1.791759</td>\n",
       "      <td>1.000000</td>\n",
       "      <td>0.000000</td>\n",
       "      <td>0.000000</td>\n",
       "      <td>1.000000</td>\n",
       "      <td>0.000000</td>\n",
       "      <td>0.000000</td>\n",
       "      <td>0.000000</td>\n",
       "      <td>0.000000</td>\n",
       "      <td>...</td>\n",
       "      <td>1.000000</td>\n",
       "      <td>1.000000</td>\n",
       "      <td>0.000000</td>\n",
       "      <td>0.000000</td>\n",
       "      <td>1.000000</td>\n",
       "      <td>1.000000</td>\n",
       "      <td>0.000000</td>\n",
       "      <td>0.000000</td>\n",
       "      <td>1.000000</td>\n",
       "      <td>1.000000</td>\n",
       "    </tr>\n",
       "    <tr>\n",
       "      <th>max</th>\n",
       "      <td>2022.000000</td>\n",
       "      <td>8.342602</td>\n",
       "      <td>1.000000</td>\n",
       "      <td>1.000000</td>\n",
       "      <td>1.000000</td>\n",
       "      <td>1.000000</td>\n",
       "      <td>1.000000</td>\n",
       "      <td>1.000000</td>\n",
       "      <td>1.000000</td>\n",
       "      <td>1.000000</td>\n",
       "      <td>...</td>\n",
       "      <td>1.000000</td>\n",
       "      <td>1.000000</td>\n",
       "      <td>1.000000</td>\n",
       "      <td>1.000000</td>\n",
       "      <td>1.000000</td>\n",
       "      <td>1.000000</td>\n",
       "      <td>1.000000</td>\n",
       "      <td>1.000000</td>\n",
       "      <td>1.000000</td>\n",
       "      <td>1.000000</td>\n",
       "    </tr>\n",
       "  </tbody>\n",
       "</table>\n",
       "<p>8 rows × 23 columns</p>\n",
       "</div>"
      ],
      "text/plain": [
       "               Year    Appearnces   Gender_Male  Gender_Other  M Status_Other  \\\n",
       "count  24504.000000  24504.000000  24504.000000  24504.000000    24504.000000   \n",
       "mean    1992.304767      1.121848      0.698702      0.006285        0.085251   \n",
       "std       20.740411      1.299832      0.458831      0.079028        0.279261   \n",
       "min     1939.000000      0.000000      0.000000      0.000000        0.000000   \n",
       "25%     1980.000000      0.000000      0.000000      0.000000        0.000000   \n",
       "50%     1995.000000      0.693147      1.000000      0.000000        0.000000   \n",
       "75%     2009.000000      1.791759      1.000000      0.000000        0.000000   \n",
       "max     2022.000000      8.342602      1.000000      1.000000        1.000000   \n",
       "\n",
       "       M Status_Single  Hair C_Blond  Hair C_Brown   Hair C_Grey  \\\n",
       "count     24504.000000  24504.000000  24504.000000  24504.000000   \n",
       "mean          0.719474      0.144752      0.245470      0.053053   \n",
       "std           0.449265      0.351858      0.430374      0.224143   \n",
       "min           0.000000      0.000000      0.000000      0.000000   \n",
       "25%           0.000000      0.000000      0.000000      0.000000   \n",
       "50%           1.000000      0.000000      0.000000      0.000000   \n",
       "75%           1.000000      0.000000      0.000000      0.000000   \n",
       "max           1.000000      1.000000      1.000000      1.000000   \n",
       "\n",
       "       Hair C_No Hair At All  ...    Eye C_Blue   Eye C_Brown   Eye C_Green  \\\n",
       "count           24504.000000  ...  24504.000000  24504.000000  24504.000000   \n",
       "mean                0.119940  ...      0.301012      0.373817      0.077702   \n",
       "std                 0.324898  ...      0.458707      0.483826      0.267707   \n",
       "min                 0.000000  ...      0.000000      0.000000      0.000000   \n",
       "25%                 0.000000  ...      0.000000      0.000000      0.000000   \n",
       "50%                 0.000000  ...      0.000000      0.000000      0.000000   \n",
       "75%                 0.000000  ...      1.000000      1.000000      0.000000   \n",
       "max                 1.000000  ...      1.000000      1.000000      1.000000   \n",
       "\n",
       "        Eye C_Other  L status_Deceased  Identity_No Dual  Identity_Public  \\\n",
       "count  24504.000000       24504.000000      24504.000000     24504.000000   \n",
       "mean       0.161321           0.271507          0.664218         0.131978   \n",
       "std        0.367834           0.444746          0.472273         0.338474   \n",
       "min        0.000000           0.000000          0.000000         0.000000   \n",
       "25%        0.000000           0.000000          0.000000         0.000000   \n",
       "50%        0.000000           0.000000          1.000000         0.000000   \n",
       "75%        0.000000           1.000000          1.000000         0.000000   \n",
       "max        1.000000           1.000000          1.000000         1.000000   \n",
       "\n",
       "       Identity_Secret  Reality_Other  Citenzenship_Other  \n",
       "count     24504.000000   24504.000000        24504.000000  \n",
       "mean          0.194336       0.266242            0.377897  \n",
       "std           0.395696       0.442001            0.484872  \n",
       "min           0.000000       0.000000            0.000000  \n",
       "25%           0.000000       0.000000            0.000000  \n",
       "50%           0.000000       0.000000            0.000000  \n",
       "75%           0.000000       1.000000            1.000000  \n",
       "max           1.000000       1.000000            1.000000  \n",
       "\n",
       "[8 rows x 23 columns]"
      ]
     },
     "execution_count": 453,
     "metadata": {},
     "output_type": "execute_result"
    }
   ],
   "source": [
    "df9.describe()"
   ]
  }
 ],
 "metadata": {
  "kernelspec": {
   "display_name": "Python 3 (ipykernel)",
   "language": "python",
   "name": "python3"
  },
  "language_info": {
   "codemirror_mode": {
    "name": "ipython",
    "version": 3
   },
   "file_extension": ".py",
   "mimetype": "text/x-python",
   "name": "python",
   "nbconvert_exporter": "python",
   "pygments_lexer": "ipython3",
   "version": "3.9.7"
  }
 },
 "nbformat": 4,
 "nbformat_minor": 5
}
