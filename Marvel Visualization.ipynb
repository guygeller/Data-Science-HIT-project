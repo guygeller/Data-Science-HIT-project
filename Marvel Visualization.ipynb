{
 "cells": [
  {
   "cell_type": "code",
   "execution_count": 124,
   "id": "c5634f1c",
   "metadata": {},
   "outputs": [],
   "source": [
    "import pandas as pd\n",
    "import scipy as sc\n",
    "import numpy as np\n",
    "import seaborn as sns\n",
    "from matplotlib import pyplot as plt"
   ]
  },
  {
   "cell_type": "code",
   "execution_count": 135,
   "id": "10ed04bf",
   "metadata": {},
   "outputs": [
    {
     "data": {
      "text/html": [
       "<div>\n",
       "<style scoped>\n",
       "    .dataframe tbody tr th:only-of-type {\n",
       "        vertical-align: middle;\n",
       "    }\n",
       "\n",
       "    .dataframe tbody tr th {\n",
       "        vertical-align: top;\n",
       "    }\n",
       "\n",
       "    .dataframe thead th {\n",
       "        text-align: right;\n",
       "    }\n",
       "</style>\n",
       "<table border=\"1\" class=\"dataframe\">\n",
       "  <thead>\n",
       "    <tr style=\"text-align: right;\">\n",
       "      <th></th>\n",
       "      <th>Name</th>\n",
       "      <th>Year</th>\n",
       "      <th>Appearnces</th>\n",
       "      <th>Gender_Female</th>\n",
       "      <th>Gender_Male</th>\n",
       "      <th>Gender_Other</th>\n",
       "      <th>M Status_Married</th>\n",
       "      <th>M Status_Other</th>\n",
       "      <th>M Status_Single</th>\n",
       "      <th>Hair C_Black</th>\n",
       "      <th>...</th>\n",
       "      <th>L status_Alive</th>\n",
       "      <th>L status_Deceased</th>\n",
       "      <th>Identity_Known to Authorities</th>\n",
       "      <th>Identity_No Dual</th>\n",
       "      <th>Identity_Public</th>\n",
       "      <th>Identity_Secret</th>\n",
       "      <th>Reality_Earth-616</th>\n",
       "      <th>Reality_Other</th>\n",
       "      <th>Citenzenship_American</th>\n",
       "      <th>Citenzenship_Other</th>\n",
       "    </tr>\n",
       "  </thead>\n",
       "  <tbody>\n",
       "    <tr>\n",
       "      <th>0</th>\n",
       "      <td>Bryant</td>\n",
       "      <td>2018</td>\n",
       "      <td>3</td>\n",
       "      <td>0</td>\n",
       "      <td>1</td>\n",
       "      <td>0</td>\n",
       "      <td>0</td>\n",
       "      <td>0</td>\n",
       "      <td>1</td>\n",
       "      <td>0</td>\n",
       "      <td>...</td>\n",
       "      <td>1</td>\n",
       "      <td>0</td>\n",
       "      <td>0</td>\n",
       "      <td>1</td>\n",
       "      <td>0</td>\n",
       "      <td>0</td>\n",
       "      <td>1</td>\n",
       "      <td>0</td>\n",
       "      <td>1</td>\n",
       "      <td>0</td>\n",
       "    </tr>\n",
       "    <tr>\n",
       "      <th>1</th>\n",
       "      <td>Tanner</td>\n",
       "      <td>1976</td>\n",
       "      <td>12</td>\n",
       "      <td>0</td>\n",
       "      <td>1</td>\n",
       "      <td>0</td>\n",
       "      <td>0</td>\n",
       "      <td>0</td>\n",
       "      <td>1</td>\n",
       "      <td>0</td>\n",
       "      <td>...</td>\n",
       "      <td>1</td>\n",
       "      <td>0</td>\n",
       "      <td>0</td>\n",
       "      <td>1</td>\n",
       "      <td>0</td>\n",
       "      <td>0</td>\n",
       "      <td>1</td>\n",
       "      <td>0</td>\n",
       "      <td>0</td>\n",
       "      <td>1</td>\n",
       "    </tr>\n",
       "    <tr>\n",
       "      <th>2</th>\n",
       "      <td>\"AJ\"</td>\n",
       "      <td>2021</td>\n",
       "      <td>3</td>\n",
       "      <td>0</td>\n",
       "      <td>1</td>\n",
       "      <td>0</td>\n",
       "      <td>0</td>\n",
       "      <td>0</td>\n",
       "      <td>1</td>\n",
       "      <td>1</td>\n",
       "      <td>...</td>\n",
       "      <td>1</td>\n",
       "      <td>0</td>\n",
       "      <td>0</td>\n",
       "      <td>1</td>\n",
       "      <td>0</td>\n",
       "      <td>0</td>\n",
       "      <td>0</td>\n",
       "      <td>1</td>\n",
       "      <td>1</td>\n",
       "      <td>0</td>\n",
       "    </tr>\n",
       "    <tr>\n",
       "      <th>3</th>\n",
       "      <td>\"Froggy\" Neilsen</td>\n",
       "      <td>1988</td>\n",
       "      <td>2</td>\n",
       "      <td>0</td>\n",
       "      <td>1</td>\n",
       "      <td>0</td>\n",
       "      <td>0</td>\n",
       "      <td>0</td>\n",
       "      <td>1</td>\n",
       "      <td>0</td>\n",
       "      <td>...</td>\n",
       "      <td>1</td>\n",
       "      <td>0</td>\n",
       "      <td>0</td>\n",
       "      <td>0</td>\n",
       "      <td>1</td>\n",
       "      <td>0</td>\n",
       "      <td>0</td>\n",
       "      <td>1</td>\n",
       "      <td>1</td>\n",
       "      <td>0</td>\n",
       "    </tr>\n",
       "    <tr>\n",
       "      <th>4</th>\n",
       "      <td>\"Rico\" Richards</td>\n",
       "      <td>2008</td>\n",
       "      <td>10</td>\n",
       "      <td>0</td>\n",
       "      <td>1</td>\n",
       "      <td>0</td>\n",
       "      <td>0</td>\n",
       "      <td>0</td>\n",
       "      <td>1</td>\n",
       "      <td>0</td>\n",
       "      <td>...</td>\n",
       "      <td>1</td>\n",
       "      <td>0</td>\n",
       "      <td>0</td>\n",
       "      <td>0</td>\n",
       "      <td>1</td>\n",
       "      <td>0</td>\n",
       "      <td>0</td>\n",
       "      <td>1</td>\n",
       "      <td>1</td>\n",
       "      <td>0</td>\n",
       "    </tr>\n",
       "    <tr>\n",
       "      <th>...</th>\n",
       "      <td>...</td>\n",
       "      <td>...</td>\n",
       "      <td>...</td>\n",
       "      <td>...</td>\n",
       "      <td>...</td>\n",
       "      <td>...</td>\n",
       "      <td>...</td>\n",
       "      <td>...</td>\n",
       "      <td>...</td>\n",
       "      <td>...</td>\n",
       "      <td>...</td>\n",
       "      <td>...</td>\n",
       "      <td>...</td>\n",
       "      <td>...</td>\n",
       "      <td>...</td>\n",
       "      <td>...</td>\n",
       "      <td>...</td>\n",
       "      <td>...</td>\n",
       "      <td>...</td>\n",
       "      <td>...</td>\n",
       "      <td>...</td>\n",
       "    </tr>\n",
       "    <tr>\n",
       "      <th>24499</th>\n",
       "      <td>von Widemouth</td>\n",
       "      <td>1943</td>\n",
       "      <td>1</td>\n",
       "      <td>0</td>\n",
       "      <td>1</td>\n",
       "      <td>0</td>\n",
       "      <td>0</td>\n",
       "      <td>0</td>\n",
       "      <td>1</td>\n",
       "      <td>0</td>\n",
       "      <td>...</td>\n",
       "      <td>0</td>\n",
       "      <td>1</td>\n",
       "      <td>0</td>\n",
       "      <td>1</td>\n",
       "      <td>0</td>\n",
       "      <td>0</td>\n",
       "      <td>1</td>\n",
       "      <td>0</td>\n",
       "      <td>0</td>\n",
       "      <td>1</td>\n",
       "    </tr>\n",
       "    <tr>\n",
       "      <th>24500</th>\n",
       "      <td>Äkräs</td>\n",
       "      <td>2018</td>\n",
       "      <td>1</td>\n",
       "      <td>0</td>\n",
       "      <td>1</td>\n",
       "      <td>0</td>\n",
       "      <td>0</td>\n",
       "      <td>0</td>\n",
       "      <td>1</td>\n",
       "      <td>0</td>\n",
       "      <td>...</td>\n",
       "      <td>1</td>\n",
       "      <td>0</td>\n",
       "      <td>0</td>\n",
       "      <td>1</td>\n",
       "      <td>0</td>\n",
       "      <td>0</td>\n",
       "      <td>0</td>\n",
       "      <td>1</td>\n",
       "      <td>0</td>\n",
       "      <td>1</td>\n",
       "    </tr>\n",
       "    <tr>\n",
       "      <th>24501</th>\n",
       "      <td>Ögedei Khan</td>\n",
       "      <td>2021</td>\n",
       "      <td>1</td>\n",
       "      <td>0</td>\n",
       "      <td>1</td>\n",
       "      <td>0</td>\n",
       "      <td>1</td>\n",
       "      <td>0</td>\n",
       "      <td>0</td>\n",
       "      <td>1</td>\n",
       "      <td>...</td>\n",
       "      <td>0</td>\n",
       "      <td>1</td>\n",
       "      <td>0</td>\n",
       "      <td>1</td>\n",
       "      <td>0</td>\n",
       "      <td>0</td>\n",
       "      <td>1</td>\n",
       "      <td>0</td>\n",
       "      <td>0</td>\n",
       "      <td>1</td>\n",
       "    </tr>\n",
       "    <tr>\n",
       "      <th>24502</th>\n",
       "      <td>Øde</td>\n",
       "      <td>2020</td>\n",
       "      <td>2</td>\n",
       "      <td>0</td>\n",
       "      <td>1</td>\n",
       "      <td>0</td>\n",
       "      <td>1</td>\n",
       "      <td>0</td>\n",
       "      <td>0</td>\n",
       "      <td>0</td>\n",
       "      <td>...</td>\n",
       "      <td>0</td>\n",
       "      <td>1</td>\n",
       "      <td>0</td>\n",
       "      <td>1</td>\n",
       "      <td>0</td>\n",
       "      <td>0</td>\n",
       "      <td>1</td>\n",
       "      <td>0</td>\n",
       "      <td>0</td>\n",
       "      <td>1</td>\n",
       "    </tr>\n",
       "    <tr>\n",
       "      <th>24503</th>\n",
       "      <td>Ṣalāḥ ad-Dīn Yūsuf ibn Ayyūb</td>\n",
       "      <td>1948</td>\n",
       "      <td>4</td>\n",
       "      <td>0</td>\n",
       "      <td>1</td>\n",
       "      <td>0</td>\n",
       "      <td>0</td>\n",
       "      <td>0</td>\n",
       "      <td>1</td>\n",
       "      <td>1</td>\n",
       "      <td>...</td>\n",
       "      <td>0</td>\n",
       "      <td>1</td>\n",
       "      <td>0</td>\n",
       "      <td>0</td>\n",
       "      <td>1</td>\n",
       "      <td>0</td>\n",
       "      <td>1</td>\n",
       "      <td>0</td>\n",
       "      <td>0</td>\n",
       "      <td>1</td>\n",
       "    </tr>\n",
       "  </tbody>\n",
       "</table>\n",
       "<p>24504 rows × 32 columns</p>\n",
       "</div>"
      ],
      "text/plain": [
       "                               Name  Year  Appearnces  Gender_Female  \\\n",
       "0                            Bryant  2018           3              0   \n",
       "1                            Tanner  1976          12              0   \n",
       "2                             \"AJ\"   2021           3              0   \n",
       "3                 \"Froggy\" Neilsen   1988           2              0   \n",
       "4                   \"Rico\" Richards  2008          10              0   \n",
       "...                             ...   ...         ...            ...   \n",
       "24499                von Widemouth   1943           1              0   \n",
       "24500                         Äkräs  2018           1              0   \n",
       "24501                   Ögedei Khan  2021           1              0   \n",
       "24502                           Øde  2020           2              0   \n",
       "24503  Ṣalāḥ ad-Dīn Yūsuf ibn Ayyūb  1948           4              0   \n",
       "\n",
       "       Gender_Male  Gender_Other  M Status_Married  M Status_Other  \\\n",
       "0                1             0                 0               0   \n",
       "1                1             0                 0               0   \n",
       "2                1             0                 0               0   \n",
       "3                1             0                 0               0   \n",
       "4                1             0                 0               0   \n",
       "...            ...           ...               ...             ...   \n",
       "24499            1             0                 0               0   \n",
       "24500            1             0                 0               0   \n",
       "24501            1             0                 1               0   \n",
       "24502            1             0                 1               0   \n",
       "24503            1             0                 0               0   \n",
       "\n",
       "       M Status_Single  Hair C_Black  ...  L status_Alive  L status_Deceased  \\\n",
       "0                    1             0  ...               1                  0   \n",
       "1                    1             0  ...               1                  0   \n",
       "2                    1             1  ...               1                  0   \n",
       "3                    1             0  ...               1                  0   \n",
       "4                    1             0  ...               1                  0   \n",
       "...                ...           ...  ...             ...                ...   \n",
       "24499                1             0  ...               0                  1   \n",
       "24500                1             0  ...               1                  0   \n",
       "24501                0             1  ...               0                  1   \n",
       "24502                0             0  ...               0                  1   \n",
       "24503                1             1  ...               0                  1   \n",
       "\n",
       "       Identity_Known to Authorities  Identity_No Dual  Identity_Public  \\\n",
       "0                                  0                 1                0   \n",
       "1                                  0                 1                0   \n",
       "2                                  0                 1                0   \n",
       "3                                  0                 0                1   \n",
       "4                                  0                 0                1   \n",
       "...                              ...               ...              ...   \n",
       "24499                              0                 1                0   \n",
       "24500                              0                 1                0   \n",
       "24501                              0                 1                0   \n",
       "24502                              0                 1                0   \n",
       "24503                              0                 0                1   \n",
       "\n",
       "       Identity_Secret  Reality_Earth-616  Reality_Other  \\\n",
       "0                    0                  1              0   \n",
       "1                    0                  1              0   \n",
       "2                    0                  0              1   \n",
       "3                    0                  0              1   \n",
       "4                    0                  0              1   \n",
       "...                ...                ...            ...   \n",
       "24499                0                  1              0   \n",
       "24500                0                  0              1   \n",
       "24501                0                  1              0   \n",
       "24502                0                  1              0   \n",
       "24503                0                  1              0   \n",
       "\n",
       "       Citenzenship_American  Citenzenship_Other  \n",
       "0                          1                   0  \n",
       "1                          0                   1  \n",
       "2                          1                   0  \n",
       "3                          1                   0  \n",
       "4                          1                   0  \n",
       "...                      ...                 ...  \n",
       "24499                      0                   1  \n",
       "24500                      0                   1  \n",
       "24501                      0                   1  \n",
       "24502                      0                   1  \n",
       "24503                      0                   1  \n",
       "\n",
       "[24504 rows x 32 columns]"
      ]
     },
     "execution_count": 135,
     "metadata": {},
     "output_type": "execute_result"
    }
   ],
   "source": [
    "df = pd.read_csv('Marvel Dataframe after drop and fill8.csv')\n",
    "df"
   ]
  },
  {
   "cell_type": "code",
   "execution_count": 77,
   "id": "b1f331a0",
   "metadata": {},
   "outputs": [
    {
     "data": {
      "text/plain": [
       "<AxesSubplot:ylabel='Gender_Male'>"
      ]
     },
     "execution_count": 77,
     "metadata": {},
     "output_type": "execute_result"
    },
    {
     "data": {
      "image/png": "[encoded data removed]",
      "text/plain": [
       "<Figure size 432x288 with 1 Axes>"
      ]
     },
     "metadata": {},
     "output_type": "display_data"
    }
   ],
   "source": [
    "df['Gender_Male'].value_counts().plot(kind='pie')"
   ]
  },
  {
   "cell_type": "code",
   "execution_count": 87,
   "id": "e0901327",
   "metadata": {},
   "outputs": [
    {
     "data": {
      "text/plain": [
       "1      10060\n",
       "2       3111\n",
       "3       1985\n",
       "4       1546\n",
       "5       1145\n",
       "       ...  \n",
       "188        1\n",
       "149        1\n",
       "756        1\n",
       "408        1\n",
       "213        1\n",
       "Name: Appearnces, Length: 384, dtype: int64"
      ]
     },
     "execution_count": 87,
     "metadata": {},
     "output_type": "execute_result"
    }
   ],
   "source": [
    "df['Appearnces'].value_counts()"
   ]
  },
  {
   "cell_type": "code",
   "execution_count": 136,
   "id": "fdec4dc2",
   "metadata": {},
   "outputs": [
    {
     "data": {
      "text/plain": [
       "<AxesSubplot:xlabel='Year', ylabel='Appearnces'>"
      ]
     },
     "execution_count": 136,
     "metadata": {},
     "output_type": "execute_result"
    },
    {
     "data": {
      "image/png": "[encoded data removed]",
      "text/plain": [
       "<Figure size 432x288 with 1 Axes>"
      ]
     },
     "metadata": {
      "needs_background": "light"
     },
     "output_type": "display_data"
    }
   ],
   "source": [
    "sns.scatterplot(data=df, x='Year', y='Appearnces')"
   ]
  },
  {
   "cell_type": "code",
   "execution_count": null,
   "id": "35eb4f49",
   "metadata": {
    "scrolled": true
   },
   "outputs": [],
   "source": [
    "sns.lineplot(data=df, x='Citenzenship_American', y='Appearnces')"
   ]
  },
  {
   "cell_type": "code",
   "execution_count": 28,
   "id": "23444dd7",
   "metadata": {},
   "outputs": [
    {
     "data": {
      "text/plain": [
       "<seaborn.axisgrid.FacetGrid at 0x1e305771280>"
      ]
     },
     "execution_count": 28,
     "metadata": {},
     "output_type": "execute_result"
    },
    {
     "data": {
      "image/png": "[encoded data removed]",
      "text/plain": [
       "<Figure size 360x360 with 1 Axes>"
      ]
     },
     "metadata": {
      "needs_background": "light"
     },
     "output_type": "display_data"
    }
   ],
   "source": [
    "sns.catplot(data=df, x='Citenzenship_American', y='Year',kind=\"violin\")"
   ]
  },
  {
   "cell_type": "code",
   "execution_count": 27,
   "id": "48ecfeee",
   "metadata": {},
   "outputs": [
    {
     "data": {
      "text/plain": [
       "<seaborn.axisgrid.FacetGrid at 0x1e30501a460>"
      ]
     },
     "execution_count": 27,
     "metadata": {},
     "output_type": "execute_result"
    },
    {
     "data": {
      "image/png": "[encoded data removed]",
      "text/plain": [
       "<Figure size 360x360 with 1 Axes>"
      ]
     },
     "metadata": {
      "needs_background": "light"
     },
     "output_type": "display_data"
    }
   ],
   "source": [
    "sns.catplot(data=df, x='Citenzenship_American', y='Appearnces')"
   ]
  }
 ],
 "metadata": {
  "kernelspec": {
   "display_name": "Python 3 (ipykernel)",
   "language": "python",
   "name": "python3"
  },
  "language_info": {
   "codemirror_mode": {
    "name": "ipython",
    "version": 3
   },
   "file_extension": ".py",
   "mimetype": "text/x-python",
   "name": "python",
   "nbconvert_exporter": "python",
   "pygments_lexer": "ipython3",
   "version": "3.9.7"
  }
 },
 "nbformat": 4,
 "nbformat_minor": 5
}
